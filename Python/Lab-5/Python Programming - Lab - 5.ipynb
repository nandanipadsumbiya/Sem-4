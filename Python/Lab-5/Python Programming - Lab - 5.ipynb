{
 "cells": [
  {
   "cell_type": "markdown",
   "metadata": {},
   "source": [
    "\n",
    "<a href='https://www.darshan.ac.in/'> <img src='https://www.darshan.ac.in/Content/media/DU_Logo.svg' width=\"250\" height=\"300\"/></a>\n",
    "<pre>\n",
    "<center><b><h1>Python Programming - 2301CS404</b></center>\n",
    "<center><b><h1>Lab - 5</b></center>   \n",
    "<center><b><h1>Nandani adsumbiya | 23010101182 | 01/01/2025</b></center>\n",
    "<pre>"
   ]
  },
  {
   "cell_type": "markdown",
   "metadata": {},
   "source": [
    "# List"
   ]
  },
  {
   "cell_type": "markdown",
   "metadata": {},
   "source": [
    "### 01) WAP to find sum of all the elements in a List."
   ]
  },
  {
   "cell_type": "code",
   "execution_count": 12,
   "metadata": {},
   "outputs": [
    {
     "name": "stdin",
     "output_type": "stream",
     "text": [
      "Enter a length of list : 2\n",
      "Enter element of list : 1\n",
      "Enter element of list : 2\n"
     ]
    },
    {
     "name": "stdout",
     "output_type": "stream",
     "text": [
      "[1, 2]\n",
      "sum of all element: 3\n"
     ]
    }
   ],
   "source": [
    "l = []\n",
    "length = int(input(\"Enter a length of list :\"))\n",
    "for i in range(0,length):\n",
    "    ele=int(input(\"Enter element of list :\"))\n",
    "    l.append(ele)\n",
    "print(l)\n",
    "ans=sum(l)\n",
    "print(\"sum of all element:\",ans)\n",
    "\n",
    "\n",
    "\n",
    "l1 = [1,2,3,4,5]\n",
    "sum =0\n",
    "for i in l1:\n",
    "    sum+=i\n",
    "print(sum)"
   ]
  },
  {
   "cell_type": "markdown",
   "metadata": {},
   "source": [
    "### 02) WAP to find largest element in a List."
   ]
  },
  {
   "cell_type": "code",
   "execution_count": 26,
   "metadata": {},
   "outputs": [
    {
     "name": "stdin",
     "output_type": "stream",
     "text": [
      "Enter a length of list : 3\n",
      "Enter element of list : 1\n",
      "Enter element of list : 2\n",
      "Enter element of list : 3\n"
     ]
    },
    {
     "name": "stdout",
     "output_type": "stream",
     "text": [
      "[1, 2, 3]\n",
      "largest element in a list: 3\n"
     ]
    }
   ],
   "source": [
    "l = []\n",
    "length = int(input(\"Enter a length of list :\"))\n",
    "for i in range(0,length):\n",
    "    ele=int(input(\"Enter element of list :\"))\n",
    "    l.append(ele)\n",
    "print(l)\n",
    "ans =0\n",
    "for i in l:\n",
    "    for j in l:\n",
    "        if j>i:\n",
    "            ans = j\n",
    "print(\"largest element in a list:\",ans)\n",
    "\n",
    "\n",
    "l1 = [1,2,25,3,90]\n",
    "largest = l1[1]\n",
    "for i in l1:\n",
    "    if i>largest:\n",
    "        largest = i\n",
    "print(largest)\n"
   ]
  },
  {
   "cell_type": "markdown",
   "metadata": {},
   "source": [
    "### 03) WAP to find the length of a List."
   ]
  },
  {
   "cell_type": "code",
   "execution_count": 50,
   "metadata": {},
   "outputs": [
    {
     "name": "stdin",
     "output_type": "stream",
     "text": [
      "Enter element of list : 2\n",
      "Enter element of list : 3\n",
      "Enter element of list : 4\n",
      "Enter element of list : 5\n",
      "Enter element of list : 0\n"
     ]
    },
    {
     "name": "stdout",
     "output_type": "stream",
     "text": [
      "[2, 3, 4, 5]\n",
      "length of a list 4\n"
     ]
    }
   ],
   "source": [
    "l = []\n",
    "count=0\n",
    "# for i in l:\n",
    "#     count+=1\n",
    "# print(\"length of a list\",count)\n",
    "\n",
    "# or\n",
    "\n",
    "while(True):\n",
    "    ele=int(input(\"Enter element of list :\"))\n",
    "    if (ele==0):\n",
    "        break;\n",
    "    l.append(ele)\n",
    "    \n",
    "print(l)\n",
    "for i in l:\n",
    "    count+=1\n",
    "print(\"length of a list\",count)\n",
    "\n",
    "\n",
    "\n",
    "l1 = [1,2,3,4,5]\n",
    "count=0\n",
    "for i in l1:\n",
    "    count+=1\n",
    "\n",
    "print(count)\n"
   ]
  },
  {
   "cell_type": "markdown",
   "metadata": {},
   "source": [
    "### 04) WAP to interchange first and last elements in a list."
   ]
  },
  {
   "cell_type": "code",
   "execution_count": 58,
   "metadata": {},
   "outputs": [
    {
     "name": "stdin",
     "output_type": "stream",
     "text": [
      "Enter a length of list : 5\n",
      "Enter element of list : 1\n",
      "Enter element of list : 2\n",
      "Enter element of list : 3\n",
      "Enter element of list : 4\n",
      "Enter element of list : 5\n"
     ]
    },
    {
     "name": "stdout",
     "output_type": "stream",
     "text": [
      "[1, 2, 3, 4, 5]\n",
      "interchange firat and last elements [5, 2, 3, 4, 1]\n"
     ]
    }
   ],
   "source": [
    "l = []\n",
    "length = int(input(\"Enter a length of list :\"))\n",
    "for i in range(0,length):\n",
    "    ele=int(input(\"Enter element of list :\"))\n",
    "    l.append(ele)\n",
    "print(l)\n",
    "temp =l[length-1]\n",
    "l[length-1]=l[0]\n",
    "l[0]=temp\n",
    "print(\"interchange firat and last elements\",l)\n",
    "\n",
    "\n",
    "\n",
    "l1 = [1,2,3,45]\n",
    "temp=l1[0]\n",
    "l1[0]=l1[len(l1)-1]\n",
    "l1[len(l1)-1]=temp\n",
    "for i in l1:\n",
    "    print(i)\n"
   ]
  },
  {
   "cell_type": "markdown",
   "metadata": {},
   "source": [
    "### 05) WAP to split the List into two parts and append the first part to the end."
   ]
  },
  {
   "cell_type": "code",
   "execution_count": 82,
   "metadata": {},
   "outputs": [
    {
     "name": "stdin",
     "output_type": "stream",
     "text": [
      "Enter a length of list : 4\n",
      "Enter element of list : 1\n",
      "Enter element of list : 2\n",
      "Enter element of list : 3\n",
      "Enter element of list : 4\n"
     ]
    },
    {
     "name": "stdout",
     "output_type": "stream",
     "text": [
      "[1, 2, 3, 4]\n",
      "first list : [1, 2]\n",
      "second list: [3, 4]\n",
      "[3, 4, 1, 2]\n"
     ]
    }
   ],
   "source": [
    "l = []\n",
    "l1=[]\n",
    "l2=[]\n",
    "length = int(input(\"Enter a length of list :\"))\n",
    "for i in range(0,length):\n",
    "    ele=int(input(\"Enter element of list :\"))\n",
    "    l.append(ele)\n",
    "print(l)\n",
    "for i in range(0,int(length/2)):\n",
    "    l1.append(l[i])\n",
    "for j in range(int(length/2),length):\n",
    "    l2.append(l[j])\n",
    "print(\"first list :\",l1)\n",
    "print(\"second list:\",l2)\n",
    "\n",
    "split=l2+l1\n",
    "print(\"split the list into two part:\",split)\n",
    "\n",
    "\n",
    "\n",
    "\n",
    "l=[1,2,3,4,5,6]\n",
    "l1 = l[0:int((len(l)/2))]\n",
    "l2 = l[int((len(l)/2)):len(l)]\n",
    "l2.extend(l1)\n",
    "print(l2)"
   ]
  },
  {
   "cell_type": "markdown",
   "metadata": {},
   "source": [
    "### 06) WAP to interchange the elements on two positions entered by a user."
   ]
  },
  {
   "cell_type": "code",
   "execution_count": 90,
   "metadata": {},
   "outputs": [
    {
     "name": "stdin",
     "output_type": "stream",
     "text": [
      "Enter a length if list: 4\n",
      "Enter element of list : 1\n",
      "Enter element of list : 2\n",
      "Enter element of list : 3\n",
      "Enter element of list : 4\n"
     ]
    },
    {
     "name": "stdout",
     "output_type": "stream",
     "text": [
      "[1, 2, 3, 4]\n"
     ]
    },
    {
     "name": "stdin",
     "output_type": "stream",
     "text": [
      "Enter a position 1: 0\n",
      "Enter a position 2: 3\n"
     ]
    },
    {
     "name": "stdout",
     "output_type": "stream",
     "text": [
      "[4, 2, 3, 1]\n"
     ]
    }
   ],
   "source": [
    "l=[]\n",
    "length = int(input(\"Enter a length if list:\"))\n",
    "for i in range(0,length):\n",
    "    ele=int(input(\"Enter element of list :\"))\n",
    "    l.append(ele)\n",
    "print(l)\n",
    "p1=int(input(\"Enter a position 1:\"))\n",
    "p2=int(input(\"Enter a position 2:\"))\n",
    "temp = l[p1]\n",
    "l[p1]=l[p2]\n",
    "l[p2]=temp\n",
    "print(l)\n",
    "\n",
    "\n",
    "\n",
    "\n",
    "l1 = [1,2,3,4,5]\n",
    "p1 = int(input(\"Enter the first position:\"))\n",
    "p2 = int(input(\"Enter the second position:\"))\n",
    "temp=l1[p1]\n",
    "l1[p1]=l1[p2]\n",
    "l1[p2]=temp\n",
    "for i in l1:\n",
    "    print(i)"
   ]
  },
  {
   "cell_type": "markdown",
   "metadata": {},
   "source": [
    "### 07) WAP to reverse the list entered by user."
   ]
  },
  {
   "cell_type": "code",
   "execution_count": 128,
   "metadata": {},
   "outputs": [
    {
     "name": "stdin",
     "output_type": "stream",
     "text": [
      "Enter a length if list: 4\n",
      "Enter element of list : 1\n",
      "Enter element of list : 2\n",
      "Enter element of list : 3\n",
      "Enter element of list : 4\n"
     ]
    },
    {
     "name": "stdout",
     "output_type": "stream",
     "text": [
      "[1, 2, 3, 4]\n",
      "[4, 3, 2, 1]\n"
     ]
    }
   ],
   "source": [
    "# reverse the list without logic\n",
    "\n",
    "# l=[]\n",
    "# length = int(input(\"Enter a length if list:\"))\n",
    "# for i in range(0,length):\n",
    "#     ele=int(input(\"Enter element of list :\"))\n",
    "#     l.append(ele)\n",
    "# print(l)\n",
    "# l.reverse()\n",
    "# print(\"reverse the list without logic :\",l)\n",
    "\n",
    "\n",
    "# reverse the list with logic\n",
    "l=[]\n",
    "l1=[]\n",
    "length = int(input(\"Enter a length if list:\"))\n",
    "for i in range(0,length):\n",
    "    ele=int(input(\"Enter element of list :\"))\n",
    "    l.append(ele)\n",
    "print(l)\n",
    "\n",
    "for i in range(length-1,-1,-1):\n",
    "    l1.append(l[i])\n",
    "print(l1)\n",
    "\n",
    "\n",
    "l1 = [1,2,3,4,5]\n",
    "p1 = int(input(\"Enter the first position:\"))\n",
    "p2 = int(input(\"Enter the second position:\"))\n",
    "temp=l1[p1]\n",
    "l1[p1]=l1[p2]\n",
    "l1[p2]=temp\n",
    "for i in l1:\n",
    "    print(i)"
   ]
  },
  {
   "cell_type": "markdown",
   "metadata": {},
   "source": [
    "### 08) WAP to print even numbers in a list."
   ]
  },
  {
   "cell_type": "code",
   "execution_count": 134,
   "metadata": {},
   "outputs": [
    {
     "name": "stdin",
     "output_type": "stream",
     "text": [
      "Enter a length if list: 4\n",
      "Enter element of list : 3\n",
      "Enter element of list : 6\n",
      "Enter element of list : 2\n",
      "Enter element of list : 7\n"
     ]
    },
    {
     "name": "stdout",
     "output_type": "stream",
     "text": [
      "[3, 6, 2, 7]\n",
      "[6, 2]\n"
     ]
    }
   ],
   "source": [
    "l=[]\n",
    "l1=[]\n",
    "length = int(input(\"Enter a length if list:\"))\n",
    "for i in range(0,length):\n",
    "    ele=int(input(\"Enter element of list :\"))\n",
    "    l.append(ele)\n",
    "print(l)\n",
    "for i in range(0,length):\n",
    "    if l[i]%2==0:\n",
    "        l1.append(l[i])\n",
    "print(l1)\n",
    "\n",
    "\n",
    "l1 = [1,2,3,4,5]\n",
    "for i in l1:\n",
    "    if i%2==0:\n",
    "        print(i)\n"
   ]
  },
  {
   "cell_type": "markdown",
   "metadata": {},
   "source": [
    "### 09) WAP to count unique items in a list."
   ]
  },
  {
   "cell_type": "code",
   "execution_count": 142,
   "metadata": {},
   "outputs": [
    {
     "name": "stdin",
     "output_type": "stream",
     "text": [
      "Enter a length if list: 4\n",
      "Enter element of list : 22\n",
      "Enter element of list : 22\n",
      "Enter element of list : 33\n",
      "Enter element of list : 44\n"
     ]
    },
    {
     "name": "stdout",
     "output_type": "stream",
     "text": [
      "[22, 22, 33, 44]\n",
      "[22, 33, 44]\n",
      "3\n"
     ]
    }
   ],
   "source": [
    "l=[]\n",
    "l1=[]\n",
    "length = int(input(\"Enter a length if list:\"))\n",
    "for i in range(0,length):\n",
    "    ele=int(input(\"Enter element of list :\"))\n",
    "    l.append(ele)\n",
    "print(l)\n",
    "count=0\n",
    "for i in l:\n",
    "    if i not in l1:\n",
    "        l1.append(i)\n",
    "print(l1)\n",
    "print(len(l1))\n",
    "\n",
    "\n",
    "\n",
    "l1 = [1,2,2,3,3,3,4]\n",
    "for i in l1:\n",
    "   if(l1.count(i)==1):\n",
    "       print(i)"
   ]
  },
  {
   "cell_type": "markdown",
   "metadata": {},
   "source": [
    "### 10) WAP to copy a list."
   ]
  },
  {
   "cell_type": "code",
   "execution_count": 8,
   "metadata": {},
   "outputs": [
    {
     "name": "stdin",
     "output_type": "stream",
     "text": [
      "Enter a length if list: 3\n",
      "Enter element of list : 11\n",
      "Enter element of list : 22\n",
      "Enter element of list : 33\n"
     ]
    },
    {
     "name": "stdout",
     "output_type": "stream",
     "text": [
      "[11, 22, 33]\n",
      "copy a list [11, 22, 33]\n"
     ]
    }
   ],
   "source": [
    "# l1 = [1,2,3,44,5]\n",
    "# l2 = l1.copy()\n",
    "# print(\"copy a list\",l2)\n",
    "\n",
    "\n",
    "l=[]\n",
    "length = int(input(\"Enter a length if list:\"))\n",
    "for i in range(0,length):\n",
    "    ele=int(input(\"Enter element of list :\"))\n",
    "    l.append(ele)\n",
    "print(l)\n",
    "l2=l.copy()\n",
    "print(\"copy a list\",l2)"
   ]
  },
  {
   "cell_type": "markdown",
   "metadata": {},
   "source": [
    "### 11) WAP to print all odd numbers in a given range."
   ]
  },
  {
   "cell_type": "code",
   "execution_count": 10,
   "metadata": {},
   "outputs": [
    {
     "name": "stdin",
     "output_type": "stream",
     "text": [
      "Enter the range: 20\n"
     ]
    },
    {
     "name": "stdout",
     "output_type": "stream",
     "text": [
      "odd number list [1, 3, 5, 7, 9, 11, 13, 15, 17, 19]\n"
     ]
    }
   ],
   "source": [
    "n = int(input(\"Enter the range:\"))\n",
    "l=[i for i in range(1,n+1) if i%2!=0]\n",
    "print(\"odd number list\",l)"
   ]
  },
  {
   "cell_type": "markdown",
   "metadata": {},
   "source": [
    "### 12) WAP to count occurrences of an element in a list."
   ]
  },
  {
   "cell_type": "code",
   "execution_count": 12,
   "metadata": {},
   "outputs": [
    {
     "name": "stdin",
     "output_type": "stream",
     "text": [
      "Enter the element to find occurence of: 11\n"
     ]
    },
    {
     "name": "stdout",
     "output_type": "stream",
     "text": [
      "2\n"
     ]
    }
   ],
   "source": [
    "l=[11,22,33,24,52,12,11]\n",
    "n = int(input(\"Enter the element to find occurence of:\"))\n",
    "print(l.count(n))"
   ]
  },
  {
   "cell_type": "markdown",
   "metadata": {},
   "source": [
    "### 13) WAP to find second largest number in a list."
   ]
  },
  {
   "cell_type": "code",
   "execution_count": 20,
   "metadata": {},
   "outputs": [
    {
     "name": "stdout",
     "output_type": "stream",
     "text": [
      "second largest number 99\n",
      "largest number 100\n"
     ]
    }
   ],
   "source": [
    "l=[11,22,33,44,55,66,77,88,99,100]\n",
    "l.sort()\n",
    "print(\"second largest number\",l[len(l)-2])\n",
    "print(\"largest number\",l[len(l)-1])\n"
   ]
  },
  {
   "cell_type": "markdown",
   "metadata": {},
   "source": [
    "### 14) WAP to extract elements with frequency greater than K."
   ]
  },
  {
   "cell_type": "code",
   "execution_count": 24,
   "metadata": {},
   "outputs": [
    {
     "name": "stdin",
     "output_type": "stream",
     "text": [
      "Enter k: 1\n"
     ]
    },
    {
     "name": "stdout",
     "output_type": "stream",
     "text": [
      "[1, 22, 2]\n"
     ]
    }
   ],
   "source": [
    "l=[1,22,22,22,22,2,2,1]\n",
    "l1=[]\n",
    "k=int(input(\"Enter k:\"))\n",
    "for i in l:\n",
    "    if((l.count(i)>k) and (i not in l1)):\n",
    "        l1.append(i)\n",
    "print(l1)"
   ]
  },
  {
   "cell_type": "markdown",
   "metadata": {},
   "source": [
    "### 15) WAP to create a list of squared numbers from 0 to 9 with and without using List Comprehension."
   ]
  },
  {
   "cell_type": "code",
   "execution_count": 30,
   "metadata": {},
   "outputs": [
    {
     "name": "stdout",
     "output_type": "stream",
     "text": [
      "[0, 1, 4, 9, 16, 25, 36, 49, 64, 81]\n"
     ]
    }
   ],
   "source": [
    "# l=[i**2 for i in range(0,10)]\n",
    "# print(\"orignal list\",l)\n",
    "\n",
    "l1 = []\n",
    "for i in range(0,10):\n",
    "    l1.append(i**2)\n",
    "print(l1)"
   ]
  },
  {
   "cell_type": "markdown",
   "metadata": {},
   "source": [
    "### 16) WAP to create a new list (fruit whose name starts with 'b') from the list of fruits given by user."
   ]
  },
  {
   "cell_type": "code",
   "execution_count": 41,
   "metadata": {},
   "outputs": [
    {
     "name": "stdin",
     "output_type": "stream",
     "text": [
      "Enter 1st fruit: blueberry\n",
      "Enter 2nd fruit: apple\n",
      "Enter 3rd fruit: mango\n",
      "Enter 4th fruit: banana\n"
     ]
    },
    {
     "name": "stdout",
     "output_type": "stream",
     "text": [
      "['blueberry', 'banana']\n"
     ]
    }
   ],
   "source": [
    "a=input(\"Enter 1st fruit:\")\n",
    "b=input(\"Enter 2nd fruit:\")\n",
    "c=input(\"Enter 3rd fruit:\")\n",
    "d=input(\"Enter 4th fruit:\")\n",
    "l1=[a,b,c,d]\n",
    "l2=[]\n",
    "l3=[]\n",
    "for i in l1:\n",
    "   if i.startswith('b'):\n",
    "       l2.append(i)\n",
    "   else:\n",
    "       l3.append(i)\n",
    "print(l2)\n",
    "        "
   ]
  },
  {
   "cell_type": "markdown",
   "metadata": {},
   "source": [
    "### 17) WAP to create a list of common elements from given two lists."
   ]
  },
  {
   "cell_type": "code",
   "execution_count": 43,
   "metadata": {},
   "outputs": [
    {
     "name": "stdout",
     "output_type": "stream",
     "text": [
      "[2, 5, 6]\n"
     ]
    }
   ],
   "source": [
    "l1=[1,2,3,4,5,6]\n",
    "l2=[2,5,6,7,8,9]\n",
    "l3=[]\n",
    "for i in l1:\n",
    "    if i in l2:\n",
    "        l3.append(i)\n",
    "print(l3)"
   ]
  },
  {
   "cell_type": "code",
   "execution_count": null,
   "metadata": {},
   "outputs": [],
   "source": []
  }
 ],
 "metadata": {
  "kernelspec": {
   "display_name": "Python 3 (ipykernel)",
   "language": "python",
   "name": "python3"
  },
  "language_info": {
   "codemirror_mode": {
    "name": "ipython",
    "version": 3
   },
   "file_extension": ".py",
   "mimetype": "text/x-python",
   "name": "python",
   "nbconvert_exporter": "python",
   "pygments_lexer": "ipython3",
   "version": "3.12.7"
  }
 },
 "nbformat": 4,
 "nbformat_minor": 4
}
