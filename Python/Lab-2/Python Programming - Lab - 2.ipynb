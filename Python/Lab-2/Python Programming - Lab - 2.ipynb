{
 "cells": [
  {
   "cell_type": "markdown",
   "metadata": {},
   "source": [
    "\n",
    "<a href='https://www.darshan.ac.in/'> <img src='https://www.darshan.ac.in/Content/media/DU_Logo.svg' width=\"250\" height=\"300\"/></a>\n",
    "<pre>\n",
    "<center><b><h1>Python Programming - 2301CS404</b></center>\n",
    "<center><b><h1>Lab - 2</b></center>  \n",
    "<center><b><h1>Nandani Padsumbiya | 23010101182 |  04-12-2024 </b></center>      \n",
    "<pre>"
   ]
  },
  {
   "cell_type": "markdown",
   "metadata": {},
   "source": [
    "# if..else.."
   ]
  },
  {
   "cell_type": "markdown",
   "metadata": {},
   "source": [
    "### 01) WAP to check whether the given number is positive or negative."
   ]
  },
  {
   "cell_type": "code",
   "execution_count": 7,
   "metadata": {},
   "outputs": [
    {
     "name": "stdin",
     "output_type": "stream",
     "text": [
      "Enter a number:  -12\n"
     ]
    },
    {
     "name": "stdout",
     "output_type": "stream",
     "text": [
      "Number is negative\n"
     ]
    }
   ],
   "source": [
    "N = int(input(\"Enter a number: \"))\n",
    "if(N>0):\n",
    "    print(\"Number is positive!\")\n",
    "else:\n",
    "    print(\"Number is negative!\")\n"
   ]
  },
  {
   "cell_type": "markdown",
   "metadata": {},
   "source": [
    "### 02) WAP to check whether the given number is odd or even."
   ]
  },
  {
   "cell_type": "code",
   "execution_count": 13,
   "metadata": {},
   "outputs": [
    {
     "name": "stdin",
     "output_type": "stream",
     "text": [
      "Enter a number : 2\n"
     ]
    },
    {
     "name": "stdout",
     "output_type": "stream",
     "text": [
      "Number is Even!\n"
     ]
    }
   ],
   "source": [
    "N = int(input(\"Enter a number :\"))\n",
    "if(N % 2==0):\n",
    "       print(\"Number is Even!\")\n",
    "else :\n",
    "       print(\"Number is Odd!\")\n",
    "    "
   ]
  },
  {
   "cell_type": "markdown",
   "metadata": {},
   "source": [
    "### 03) WAP to find out largest number from given two numbers using simple if and ternary operator."
   ]
  },
  {
   "cell_type": "code",
   "execution_count": 21,
   "metadata": {},
   "outputs": [
    {
     "name": "stdin",
     "output_type": "stream",
     "text": [
      "Enter a number : 2\n",
      "Enter a number : 3\n"
     ]
    },
    {
     "name": "stdout",
     "output_type": "stream",
     "text": [
      "Number b is largest  3\n"
     ]
    }
   ],
   "source": [
    "a = int(input(\"Enter a number :\"))\n",
    "b = int(input(\"Enter b number :\"))\n",
    "if(b<a):\n",
    "    print(\"Number a is largest\")\n",
    "else:\n",
    "    print(\"Number b is largest \",b)"
   ]
  },
  {
   "cell_type": "markdown",
   "metadata": {},
   "source": [
    "### 04) WAP to find out largest number from given three numbers."
   ]
  },
  {
   "cell_type": "code",
   "execution_count": 23,
   "metadata": {},
   "outputs": [
    {
     "name": "stdin",
     "output_type": "stream",
     "text": [
      "Enter a number : 2\n",
      "Enter a number : 3\n",
      "Enter a number : 4\n"
     ]
    },
    {
     "name": "stdout",
     "output_type": "stream",
     "text": [
      "Number c is largest\n"
     ]
    }
   ],
   "source": [
    "a = int(input(\"Enter a number :\"))\n",
    "b = int(input(\"Enter b number :\"))\n",
    "c = int(input(\"Enter c number :\"))\n",
    "if(a>b):\n",
    "    print(\"Number a is largest\")\n",
    "elif(b>c):\n",
    "    print(\"Number b is largest\")\n",
    "else:\n",
    "    print(\"Number c is largest\")\n",
    "    "
   ]
  },
  {
   "cell_type": "markdown",
   "metadata": {},
   "source": [
    "### 05) WAP to check whether the given year is leap year or not.\n",
    "[If a year can be divisible by 4 but not divisible by 100 then it is leap year but if it is divisible by 400 then it is leap year]"
   ]
  },
  {
   "cell_type": "code",
   "execution_count": 27,
   "metadata": {},
   "outputs": [
    {
     "name": "stdin",
     "output_type": "stream",
     "text": [
      "Enter a year to check leap or not 2020\n"
     ]
    },
    {
     "name": "stdout",
     "output_type": "stream",
     "text": [
      "2020  year is leap\n"
     ]
    }
   ],
   "source": [
    "y = int (input(\"Enter a year to check leap or not\"))\n",
    "if( y % 4 ==0 and y % 100 !=0 or y % 400 ==0):\n",
    "         print(y ,\" year is leap\")\n",
    "else:\n",
    "         print(y ,\"Year is not leap\")\n"
   ]
  },
  {
   "cell_type": "markdown",
   "metadata": {},
   "source": [
    "### 06) WAP in python to display the name of the day according to the number given by the user."
   ]
  },
  {
   "cell_type": "markdown",
   "metadata": {},
   "source": [
    "### 07) WAP to implement simple calculator which performs (add,sub,mul,div) of two no. based on user input."
   ]
  },
  {
   "cell_type": "code",
   "execution_count": 31,
   "metadata": {},
   "outputs": [
    {
     "name": "stdin",
     "output_type": "stream",
     "text": [
      "Enter a number : 12\n",
      "Enter b number : 12\n"
     ]
    },
    {
     "name": "stdout",
     "output_type": "stream",
     "text": [
      "Enter 1 for add :\n",
      "Enter 2 for sub :\n",
      "Enter 3 for mul :\n",
      "Enter 4 for div :\n"
     ]
    },
    {
     "name": "stdin",
     "output_type": "stream",
     "text": [
      "Enter your choice :  1\n"
     ]
    },
    {
     "name": "stdout",
     "output_type": "stream",
     "text": [
      "your ans is :  24\n"
     ]
    }
   ],
   "source": [
    "a = int(input(\"Enter a number :\"))\n",
    "b = int(input(\"Enter b number :\"))\n",
    "\n",
    "print(\"Enter 1 for add :\")\n",
    "print(\"Enter 2 for sub :\")\n",
    "print(\"Enter 3 for mul :\")\n",
    "print(\"Enter 4 for div :\")\n",
    "choice = int(input(\"Enter your choice : \"))\n",
    "if(choice == 1):\n",
    "    ans = a+b\n",
    "    print(\"your ans is : \",ans)\n",
    "elif(choice == 2):\n",
    "    ans = a-b\n",
    "    print(\"your ans is : \",ans)\n",
    "elif(choice == 3):\n",
    "    ans = a*b\n",
    "    print(\"your ans is : \",ans)\n",
    "elif(choice == 4):\n",
    "    ans = a/b\n",
    "    print(\"your ans is : \",ans)\n",
    "else:\n",
    "    print(\"Invelid choice !\")\n",
    "    \n"
   ]
  },
  {
   "cell_type": "markdown",
   "metadata": {},
   "source": [
    "### 08) WAP to read marks of five subjects. Calculate percentage and print class accordingly. \n",
    "Fail below 35 </br>\n",
    "Pass Class between 35 to 45 </br>\n",
    "Second Class</br>\n",
    "between 45 to 60</br>\n",
    "First Class between 60 to 70</br> \n",
    "Distinction if more than 70"
   ]
  },
  {
   "cell_type": "code",
   "execution_count": 37,
   "metadata": {},
   "outputs": [
    {
     "name": "stdin",
     "output_type": "stream",
     "text": [
      "Enter a mark for sub 1 : 80\n",
      "Enter a mark for sub 2 : 90\n",
      "Enter a mark for sub 3 : 90\n",
      "Enter a mark for sub 4 : 90\n",
      "Enter a mark for sub 5 : 90\n"
     ]
    },
    {
     "name": "stdout",
     "output_type": "stream",
     "text": [
      "88.0 %\n",
      "Distinction !!\n"
     ]
    }
   ],
   "source": [
    "total = 500\n",
    "m1 = float(input(\"Enter a mark for sub 1 :\"))\n",
    "m2 = float(input(\"Enter a mark for sub 2 :\"))\n",
    "m3 = float(input(\"Enter a mark for sub 3 :\"))\n",
    "m4 = float(input(\"Enter a mark for sub 4 :\"))\n",
    "m5 = float(input(\"Enter a mark for sub 5 :\"))\n",
    "sum = (m1 + m2 + m3 + m4 + m5)\n",
    "per = (sum*100)//total\n",
    "print(per,\"%\")\n",
    "\n",
    "if(per<35):\n",
    "    print(\"Fail !!\")\n",
    "elif(per >=35 and per <45):\n",
    "    print(\"Pass !!\")\n",
    "elif(per >=45 and per<60):\n",
    "    print(\"second !!\")\n",
    "elif(per >=60 and per<70):\n",
    "    print(\"first !! \")\n",
    "elif(per >=70):\n",
    "    print(\"Distinction !!\")\n",
    "else:\n",
    "    print(\" Enter a velid mark :\")"
   ]
  },
  {
   "cell_type": "markdown",
   "metadata": {},
   "source": [
    "### 09) Three sides of a triangle are entered through the keyboard, WAP to check whether the triangle is isosceles, equilateral, scalene or right-angled triangle."
   ]
  },
  {
   "cell_type": "code",
   "execution_count": 57,
   "metadata": {},
   "outputs": [
    {
     "name": "stdin",
     "output_type": "stream",
     "text": [
      "Enter 1st side : 3\n",
      "Enter 2nd side : 4\n",
      "Enter 3rd side : 5\n"
     ]
    },
    {
     "name": "stdout",
     "output_type": "stream",
     "text": [
      "triangle is scalene\n",
      "right angled triangle \n"
     ]
    }
   ],
   "source": [
    "import math\n",
    "s1 = int(input(\"Enter 1st side :\"))\n",
    "s2 = int(input(\"Enter 2nd side :\"))\n",
    "s3 = int(input(\"Enter 3rd side :\"))\n",
    "\n",
    "ans =((math.pow(s1,2) + math.pow(s2,2))==math.pow(s3,2))\n",
    "ans1 =((math.pow(s1,2) + math.pow(s3,2))==math.pow(s2,2))\n",
    "ans2 =((math.pow(s2,2) + math.pow(s3,2))==math.pow(s1,2))\n",
    "\n",
    "if( s1==s2 and s2==s3 and s1==s3 ):\n",
    "        print(\"triangle is equilateral\")\n",
    "elif(s1==s2 or s2==s3 or s1==s3):\n",
    "        print(\"triangle is isosceles\")\n",
    "elif( s1 != s2 and s2!= s3 and s1 !=s3):\n",
    "        print(\"triangle is scalene\")\n",
    "if( ans or ans1 or ans2 ):\n",
    "    print(\"right angled triangle \")\n",
    "    "
   ]
  },
  {
   "cell_type": "code",
   "execution_count": null,
   "metadata": {},
   "outputs": [],
   "source": []
  },
  {
   "cell_type": "markdown",
   "metadata": {},
   "source": [
    "### 10) WAP to find the second largest number among three user input numbers."
   ]
  },
  {
   "cell_type": "code",
   "execution_count": 16,
   "metadata": {},
   "outputs": [
    {
     "name": "stdin",
     "output_type": "stream",
     "text": [
      "Enter a number : 60\n",
      "Enter b number : 90\n",
      "Enter c number : 80\n"
     ]
    },
    {
     "name": "stdout",
     "output_type": "stream",
     "text": [
      " c is second largest : 80\n"
     ]
    }
   ],
   "source": [
    "a = int(input(\"Enter a number :\"))\n",
    "b = int(input(\"Enter b number :\"))\n",
    "c = int(input(\"Enter c number :\"))\n",
    "\n",
    "if(a <=b ):\n",
    "    if(a >=c ):\n",
    "        print(\" a is second largest :\",a)\n",
    "    else:\n",
    "        print(\" c is second largest :\",c)\n",
    "else:\n",
    "    if(b>=c):\n",
    "        print(\"b is second largest :\",b)\n",
    "    else:\n",
    "        print(\"c is second largest :\",c)"
   ]
  },
  {
   "cell_type": "markdown",
   "metadata": {},
   "source": [
    "### 11) WAP to calculate electricity bill based on following criteria. Which takes the unit from the user.\n",
    "a. First 1 to 50 units – Rs. 2.60/unit</br>\n",
    "b. Next 50 to 100 units – Rs. 3.25/unit</br>\n",
    "c. Next 100 to 200 units – Rs. 5.26/unit</br>\n",
    "d. above 200 units – Rs. 8.45/unit"
   ]
  },
  {
   "cell_type": "code",
   "execution_count": 29,
   "metadata": {},
   "outputs": [
    {
     "name": "stdin",
     "output_type": "stream",
     "text": [
      "Enter a your unit 500\n"
     ]
    },
    {
     "name": "stdout",
     "output_type": "stream",
     "text": [
      "total bill  3090.5\n"
     ]
    }
   ],
   "source": [
    "unit = int(input(\"Enter a your unit\"))\n",
    "total_bill = 0\n",
    "\n",
    "if(unit<50):\n",
    "    total_bill = unit * 2.60\n",
    "    print(\"total bill \",total_bill)\n",
    "elif(unit>=50 and unit<100):\n",
    "    total_bill = (50 * 2.60) + ((unit-50)*3.25)\n",
    "    print(\"total bill \",total_bill)\n",
    "elif(unit>=100 and unit<200):\n",
    "    total_bill = (50 * 2.60 ) + (50 * 3.25 ) + ((unit-100)*5.26)\n",
    "    print(\"total bill \",total_bill)\n",
    "elif(unit>=200):\n",
    "    total_bill = (50 * 2.60 ) + (50 * 3.25 ) + (50 * 5.26 ) + ((unit - 200)*8.45)\n",
    "    print(\"total bill \",total_bill)\n"
   ]
  },
  {
   "cell_type": "code",
   "execution_count": null,
   "metadata": {},
   "outputs": [],
   "source": []
  }
 ],
 "metadata": {
  "kernelspec": {
   "display_name": "Python 3 (ipykernel)",
   "language": "python",
   "name": "python3"
  },
  "language_info": {
   "codemirror_mode": {
    "name": "ipython",
    "version": 3
   },
   "file_extension": ".py",
   "mimetype": "text/x-python",
   "name": "python",
   "nbconvert_exporter": "python",
   "pygments_lexer": "ipython3",
   "version": "3.12.7"
  }
 },
 "nbformat": 4,
 "nbformat_minor": 4
}
