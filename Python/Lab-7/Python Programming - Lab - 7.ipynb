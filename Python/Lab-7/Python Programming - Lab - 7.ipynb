{
 "cells": [
  {
   "cell_type": "markdown",
   "metadata": {},
   "source": [
    "<a href='https://www.darshan.ac.in/'> <img src='https://www.darshan.ac.in/Content/media/DU_Logo.svg' width=\"250\" height=\"300\"/></a>\n",
    "<pre>\n",
    "<center><b><h1>Python Programming - 2301CS404</b></center>\n",
    "<center><b><h1>Lab - 7</b></center> \n",
    "<center><b><h1>nandani padsumbiya | 23010101182 | 14-01-2025 </b></center>\n",
    "<pre>"
   ]
  },
  {
   "cell_type": "markdown",
   "metadata": {},
   "source": [
    "# Set & Dictionary"
   ]
  },
  {
   "cell_type": "markdown",
   "metadata": {},
   "source": [
    "### 01) WAP to iterate over a set."
   ]
  },
  {
   "cell_type": "code",
   "execution_count": 1,
   "metadata": {},
   "outputs": [
    {
     "name": "stdout",
     "output_type": "stream",
     "text": [
      "1\n",
      "2\n",
      "3\n",
      "4\n",
      "5\n"
     ]
    }
   ],
   "source": [
    "s ={1,2,3,4,5}\n",
    "for i in s:\n",
    "    print(i)"
   ]
  },
  {
   "cell_type": "markdown",
   "metadata": {},
   "source": [
    "### 02) WAP to convert set into list, string and tuple."
   ]
  },
  {
   "cell_type": "code",
   "execution_count": 27,
   "metadata": {},
   "outputs": [
    {
     "name": "stdout",
     "output_type": "stream",
     "text": [
      "[1, 2, 3, 4, 5]\n",
      "12345\n",
      "(1, 2, 3, 4, 5)\n",
      "<class 'list'>\n",
      "<class 'str'>\n",
      "<class 'tuple'>\n",
      "=========================\n",
      "['1', '2', '3', '4', '5']\n",
      "(1, 2, 3, 4, 5)\n",
      "<class 'list'>\n",
      "<class 'tuple'>\n",
      "12345\n"
     ]
    }
   ],
   "source": [
    "s= {1,2,3,4,5}\n",
    "l1 = list(s)\n",
    "String =''\n",
    "for i in s:\n",
    "    String+=str(i)\n",
    "T1 = tuple(s)\n",
    "print(l1)\n",
    "print(String)\n",
    "print(T1)\n",
    "\n",
    "print(type(l1))\n",
    "print(type(String))\n",
    "print(type(T1))\n",
    "\n",
    "\n",
    "print(\"=========================\")\n",
    "\n",
    "s= {1,2,3,4,5}\n",
    "l1 = [str(i) for i in s]\n",
    "T1 = tuple(s)\n",
    "\n",
    "print(l1)\n",
    "print(T1)\n",
    "\n",
    "print(type(l1))\n",
    "print(type(T1))\n",
    "\n",
    "String = ''.join(l1)\n",
    "print(String)"
   ]
  },
  {
   "cell_type": "markdown",
   "metadata": {},
   "source": [
    "### 03) WAP to find Maximum and Minimum from a set."
   ]
  },
  {
   "cell_type": "code",
   "execution_count": 5,
   "metadata": {},
   "outputs": [
    {
     "name": "stdout",
     "output_type": "stream",
     "text": [
      "Minimum: 11\n",
      "Maximum: 89\n"
     ]
    }
   ],
   "source": [
    "s1={22,11,89,65,45}\n",
    "l1=list(s1)\n",
    "l1.sort()\n",
    "print(\"Minimum:\",l1[0])\n",
    "print(\"Maximum:\",l1[len(l1)-1])"
   ]
  },
  {
   "cell_type": "markdown",
   "metadata": {},
   "source": [
    "### 04) WAP to perform union of two sets."
   ]
  },
  {
   "cell_type": "code",
   "execution_count": 7,
   "metadata": {},
   "outputs": [
    {
     "data": {
      "text/plain": [
       "{1, 2, 3, 4, 5, 6, 7, 8, 9, 10}"
      ]
     },
     "execution_count": 7,
     "metadata": {},
     "output_type": "execute_result"
    }
   ],
   "source": [
    "a={1,2,3,5,7}\n",
    "b={4,5,6,7,8,9,10}\n",
    "a.union(b)"
   ]
  },
  {
   "cell_type": "markdown",
   "metadata": {},
   "source": [
    "### 05) WAP to check if two lists have at-least one element common."
   ]
  },
  {
   "cell_type": "code",
   "execution_count": 19,
   "metadata": {},
   "outputs": [
    {
     "name": "stdout",
     "output_type": "stream",
     "text": [
      "{1, 2, 5, 8, 9}\n",
      "{0, 3, 5, 6, 7, 11}\n",
      "{0, 1, 2, 3, 5, 6, 7, 8, 9, 11}\n",
      "11\n",
      "At least one element is found common betwen two lists\n"
     ]
    }
   ],
   "source": [
    "l1=[1,2,5,8,9]\n",
    "l2=[11,0,3,7,6,5]\n",
    "s1=set(l1)\n",
    "s2=set(l2)\n",
    "s3=s1.union(s2)\n",
    "fl=len(s1)+len(s2)\n",
    "print(s1)\n",
    "print(s2)\n",
    "print(s3)\n",
    "print(fl)\n",
    "if len(s3)==fl:\n",
    "    print('Two lists does not have any common element')\n",
    "\n",
    "else:\n",
    "    print('At least one element is found common betwen two lists')"
   ]
  },
  {
   "cell_type": "markdown",
   "metadata": {},
   "source": [
    "### 06) WAP to remove duplicates from list."
   ]
  },
  {
   "cell_type": "code",
   "execution_count": 21,
   "metadata": {},
   "outputs": [
    {
     "name": "stdout",
     "output_type": "stream",
     "text": [
      "[3, 5, 6, 7, 11, 77]\n"
     ]
    }
   ],
   "source": [
    "l1=[11,11,3,5,7,77,7,6,5]\n",
    "s1=set(l1)\n",
    "print(list(s1))"
   ]
  },
  {
   "cell_type": "markdown",
   "metadata": {},
   "source": [
    "### 07) WAP to find unique words in the given string."
   ]
  },
  {
   "cell_type": "code",
   "execution_count": 23,
   "metadata": {},
   "outputs": [
    {
     "name": "stdout",
     "output_type": "stream",
     "text": [
      "{'du', 'hi', 'are', 'how', 'darshan', 'hello'}\n"
     ]
    }
   ],
   "source": [
    "str='hi hello how are darshan du du hello'\n",
    "str1=str.split()\n",
    "l1=list(str1)\n",
    "s1=set(l1)\n",
    "print(s1)"
   ]
  },
  {
   "cell_type": "markdown",
   "metadata": {},
   "source": [
    "### 08) WAP to remove common elements of set A & B from set A."
   ]
  },
  {
   "cell_type": "code",
   "execution_count": 29,
   "metadata": {},
   "outputs": [
    {
     "name": "stdout",
     "output_type": "stream",
     "text": [
      "common element of set  {33, 11, 22}\n"
     ]
    }
   ],
   "source": [
    "a={11,22,33,44,55}\n",
    "b={44,55,66,77,88,99,100}\n",
    "a2=a.difference(b)\n",
    "print(\"common element of set \",a2)"
   ]
  },
  {
   "cell_type": "markdown",
   "metadata": {},
   "source": [
    "### 09) WAP to check whether two given strings are anagram or not using set."
   ]
  },
  {
   "cell_type": "code",
   "execution_count": 39,
   "metadata": {},
   "outputs": [
    {
     "name": "stdout",
     "output_type": "stream",
     "text": [
      "anagram\n"
     ]
    }
   ],
   "source": [
    "s1='abcd'\n",
    "s2='dcba'\n",
    "st1=set(s1)\n",
    "st2=set(s2)\n",
    "for i in st1:\n",
    "    if i not in st2 or len(st1)!=len(st2):\n",
    "        print('not anagram')\n",
    "        break\n",
    "else:\n",
    "    print('anagram')"
   ]
  },
  {
   "cell_type": "markdown",
   "metadata": {},
   "source": [
    "### 10) WAP to find common elements in three lists using set."
   ]
  },
  {
   "cell_type": "code",
   "execution_count": 41,
   "metadata": {},
   "outputs": [
    {
     "data": {
      "text/plain": [
       "{33}"
      ]
     },
     "execution_count": 41,
     "metadata": {},
     "output_type": "execute_result"
    }
   ],
   "source": [
    "l1=[11,22,33]\n",
    "l2=[33,44,55]\n",
    "l3=[33,66,77]\n",
    "s1=set(l1)\n",
    "s2=set(l2)\n",
    "s3=set(l3)\n",
    "s=s1.intersection(s2,s3)\n",
    "s"
   ]
  },
  {
   "cell_type": "markdown",
   "metadata": {},
   "source": [
    "### 11) WAP to count number of vowels in given string using set."
   ]
  },
  {
   "cell_type": "code",
   "execution_count": 31,
   "metadata": {},
   "outputs": [
    {
     "name": "stdout",
     "output_type": "stream",
     "text": [
      "6\n"
     ]
    }
   ],
   "source": [
    "s='aeiousdhfa'\n",
    "s2={'a','e','i','o','u'}\n",
    "count=0\n",
    "for i in s:\n",
    "    if i in s2:\n",
    "        count+=1\n",
    "\n",
    "print(count)"
   ]
  },
  {
   "cell_type": "markdown",
   "metadata": {},
   "source": [
    "### 12) WAP to check if a given string is binary string or not."
   ]
  },
  {
   "cell_type": "code",
   "execution_count": 47,
   "metadata": {},
   "outputs": [
    {
     "name": "stdout",
     "output_type": "stream",
     "text": [
      "Not binary\n"
     ]
    }
   ],
   "source": [
    "str1='01011'\n",
    "s2={'0','1'}\n",
    "for i in str1:\n",
    "    if i not in s2:\n",
    "        print(\"Not binary\")\n",
    "        break\n",
    "else:\n",
    "    print(\"binary\")"
   ]
  },
  {
   "cell_type": "markdown",
   "metadata": {},
   "source": [
    "### 13) WAP to sort dictionary by key or value."
   ]
  },
  {
   "cell_type": "code",
   "execution_count": 51,
   "metadata": {},
   "outputs": [
    {
     "name": "stdout",
     "output_type": "stream",
     "text": [
      "['nandani', 'mansi', 'riya', 'shruti', 'darshi']\n",
      "By keys: ['darshi', 'mansi', 'nandani', 'riya', 'shruti']\n",
      "[101, 110, 107, 105, 130]\n",
      "By values: [101, 105, 107, 110, 130]\n"
     ]
    }
   ],
   "source": [
    "# Sorting by key\n",
    "d1=dict()\n",
    "d1={'nandani':101,'mansi':110,'riya':107,'shruti':105,'darshi':130}\n",
    "k1=list(d1.keys())\n",
    "print(k1)\n",
    "k1.sort()\n",
    "print(\"By keys:\",k1)\n",
    "\n",
    "\n",
    "# Sorting by values\n",
    "l1=list(d1.values())\n",
    "print(l1)\n",
    "l1.sort()\n",
    "print(\"By values:\",l1)"
   ]
  },
  {
   "cell_type": "markdown",
   "metadata": {},
   "source": [
    "### 14) WAP to find the sum of all items (values) in a dictionary given by user. (Assume: values are numeric)"
   ]
  },
  {
   "cell_type": "code",
   "execution_count": 55,
   "metadata": {},
   "outputs": [
    {
     "name": "stdout",
     "output_type": "stream",
     "text": [
      "sum of values 15\n"
     ]
    }
   ],
   "source": [
    "d1={'nandani':1,'mansi':0,'riya':6,'shruti':5,'darshi':3}\n",
    "l1=d1.values()\n",
    "sum=0\n",
    "for i in l1:\n",
    "    sum+=i\n",
    "\n",
    "print(\"sum of values\",sum)"
   ]
  },
  {
   "cell_type": "markdown",
   "metadata": {},
   "source": [
    "### 15) WAP to handle missing keys in dictionaries.\n",
    "#### Example : Given, dict1 = {'a': 5, 'c': 8, 'e': 2} \n",
    "#### if you look for key = 'd', the message given should be 'Key Not Found', otherwise print the value of 'd' in dict1."
   ]
  },
  {
   "cell_type": "code",
   "execution_count": 64,
   "metadata": {},
   "outputs": [
    {
     "name": "stdin",
     "output_type": "stream",
     "text": [
      "Enter the key to be found: a\n"
     ]
    },
    {
     "data": {
      "text/plain": [
       "5"
      ]
     },
     "execution_count": 64,
     "metadata": {},
     "output_type": "execute_result"
    }
   ],
   "source": [
    "    dict1 = {'a': 5, 'c': 8, 'e': 2}\n",
    "    key1=input(\"Enter the key to be found:\")\n",
    "    dict1.get(key1,'Key Not Found')\n",
    "    # print(dict1)"
   ]
  },
  {
   "cell_type": "code",
   "execution_count": null,
   "metadata": {},
   "outputs": [],
   "source": []
  }
 ],
 "metadata": {
  "kernelspec": {
   "display_name": "Python 3 (ipykernel)",
   "language": "python",
   "name": "python3"
  },
  "language_info": {
   "codemirror_mode": {
    "name": "ipython",
    "version": 3
   },
   "file_extension": ".py",
   "mimetype": "text/x-python",
   "name": "python",
   "nbconvert_exporter": "python",
   "pygments_lexer": "ipython3",
   "version": "3.12.7"
  }
 },
 "nbformat": 4,
 "nbformat_minor": 4
}
