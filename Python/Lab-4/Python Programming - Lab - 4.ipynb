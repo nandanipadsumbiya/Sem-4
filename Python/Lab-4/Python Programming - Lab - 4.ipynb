{
 "cells": [
  {
   "cell_type": "markdown",
   "metadata": {},
   "source": [
    "\n",
    "<a href='https://www.darshan.ac.in/'> <img src='https://www.darshan.ac.in/Content/media/DU_Logo.svg' width=\"250\" height=\"300\"/></a>\n",
    "<pre>\n",
    "<center><b><h1>Python Programming - 2301CS404</b></center>\n",
    "<center><b><h1>Lab - 4</b></center>  \n",
    "<center><b><h1>Nandani Padsumbiya | 23010101182 | 18-12-2024 </b></center> \n",
    "<pre>"
   ]
  },
  {
   "cell_type": "markdown",
   "metadata": {},
   "source": [
    "# String"
   ]
  },
  {
   "cell_type": "markdown",
   "metadata": {},
   "source": [
    "### 01) WAP to check whether the given string is palindrome or not."
   ]
  },
  {
   "cell_type": "code",
   "execution_count": 4,
   "metadata": {},
   "outputs": [
    {
     "name": "stdout",
     "output_type": "stream",
     "text": [
      "Enter a String stts\n"
     ]
    },
    {
     "name": "stdout",
     "output_type": "stream",
     "text": [
      "String is palindrome\n"
     ]
    }
   ],
   "source": [
    "str = input(\"Enter a String\")\n",
    "if(str == str[::-1]):\n",
    "    print(\"String is palindrome\")\n",
    "else:\n",
    "    print(\"String is not Palindrome\")\n"
   ]
  },
  {
   "cell_type": "markdown",
   "metadata": {},
   "source": [
    "### 02) WAP to reverse the words in the given string."
   ]
  },
  {
   "cell_type": "code",
   "execution_count": 8,
   "metadata": {},
   "outputs": [
    {
     "name": "stdout",
     "output_type": "stream",
     "text": [
      "Enter a String nandani is name my\n"
     ]
    },
    {
     "data": {
      "text/plain": [
       "['my', 'name', 'is', 'nandani']"
      ]
     },
     "execution_count": 8,
     "metadata": {},
     "output_type": "execute_result"
    }
   ],
   "source": [
    "str = input(\"Enter a String\")\n",
    "m = str.split()\n",
    "m[::-1]"
   ]
  },
  {
   "cell_type": "markdown",
   "metadata": {},
   "source": [
    "### 03) WAP to remove ith character from given string."
   ]
  },
  {
   "cell_type": "code",
   "execution_count": 3,
   "metadata": {},
   "outputs": [
    {
     "name": "stdout",
     "output_type": "stream",
     "text": [
      "Enter a String nandani\n",
      "Enter a character that you want to remove d\n"
     ]
    },
    {
     "name": "stdout",
     "output_type": "stream",
     "text": [
      "nanani\n"
     ]
    }
   ],
   "source": [
    "str = input(\"Enter a String\")\n",
    "char = input(\"Enter a character that you want to remove\")\n",
    "for i in range(len(str)):\n",
    "    if(str[i] == char):\n",
    "        s =str[:i]+str[i+1:]\n",
    "print(s)"
   ]
  },
  {
   "cell_type": "markdown",
   "metadata": {},
   "source": [
    "### 04) WAP to find length of string without using len function."
   ]
  },
  {
   "cell_type": "code",
   "execution_count": 9,
   "metadata": {},
   "outputs": [
    {
     "name": "stdout",
     "output_type": "stream",
     "text": [
      "Enter a String nandani\n"
     ]
    },
    {
     "name": "stdout",
     "output_type": "stream",
     "text": [
      "Length of String :  7\n"
     ]
    }
   ],
   "source": [
    "str = input(\"Enter a String\")\n",
    "count=0\n",
    "for i in range(len(str)):\n",
    "    count = count+1;\n",
    "print(\"Length of String : \",count)"
   ]
  },
  {
   "cell_type": "markdown",
   "metadata": {},
   "source": [
    "### 05) WAP to print even length word in string."
   ]
  },
  {
   "cell_type": "code",
   "execution_count": 16,
   "metadata": {},
   "outputs": [
    {
     "name": "stdout",
     "output_type": "stream",
     "text": [
      "Enter a String my name is nandani\n"
     ]
    },
    {
     "name": "stdout",
     "output_type": "stream",
     "text": [
      "Even length String :\n",
      "my\n",
      "name\n",
      "is\n"
     ]
    }
   ],
   "source": [
    "str = input(\"Enter a String\")\n",
    "split_str = str.split()\n",
    "print(\"Even length String :\")\n",
    "for i in range(len(split_str)):\n",
    "    if(len(split_str[i]) % 2==0):\n",
    "        print( split_str[i])"
   ]
  },
  {
   "cell_type": "markdown",
   "metadata": {},
   "source": [
    "### 06) WAP to count numbers of vowels in given string."
   ]
  },
  {
   "cell_type": "code",
   "execution_count": 20,
   "metadata": {},
   "outputs": [
    {
     "name": "stdout",
     "output_type": "stream",
     "text": [
      "Enter a String nandani\n"
     ]
    },
    {
     "name": "stdout",
     "output_type": "stream",
     "text": [
      "count number of vowel :  3\n"
     ]
    }
   ],
   "source": [
    "str = input(\"Enter a String\")\n",
    "count = 0\n",
    "for i in range(len(str)):\n",
    "    if(str[i]=='a' or str[i]=='e' or str[i]=='i' or str[i]=='o' or str[i]=='u' or \n",
    "       str[i]=='A' or str[i]=='E' or str[i]=='I' or str[i]=='O' or str[i]=='U'):\n",
    "        count = count +1\n",
    "print (\"count number of vowel : \",count)  "
   ]
  },
  {
   "cell_type": "markdown",
   "metadata": {},
   "source": [
    "### 07) WAP to capitalize the first and last character of each word in a string."
   ]
  },
  {
   "cell_type": "code",
   "execution_count": 3,
   "metadata": {},
   "outputs": [
    {
     "name": "stdin",
     "output_type": "stream",
     "text": [
      "Enter the string: hello darshan university\n"
     ]
    },
    {
     "name": "stdout",
     "output_type": "stream",
     "text": [
      "HellO DarshaN UniversitY \n"
     ]
    }
   ],
   "source": [
    "str = input(\"Enter the string:\")\n",
    "str1 = str.split()\n",
    "str2=\"\"\n",
    "for s in str1 :\n",
    "   if len(s)==1:\n",
    "       str2+=s.upper()\n",
    "   else:\n",
    "       str2+=s[0:1].upper()+s[1:len(s)-1]+s[len(s)-1].upper()+\" \"\n",
    "print(str2)"
   ]
  },
  {
   "cell_type": "markdown",
   "metadata": {},
   "source": [
    "### 08) WAP to convert given array to string."
   ]
  },
  {
   "cell_type": "code",
   "execution_count": 15,
   "metadata": {},
   "outputs": [
    {
     "name": "stdin",
     "output_type": "stream",
     "text": [
      "Enter the length for array: 4\n",
      "Enter element 2\n",
      "Enter element 3\n",
      "Enter element 4\n",
      "Enter element 5\n"
     ]
    },
    {
     "name": "stdout",
     "output_type": "stream",
     "text": [
      "2345\n"
     ]
    }
   ],
   "source": [
    "n = int(input(\"Enter the length for array:\"))\n",
    "arr=[]\n",
    "str=\"\"\n",
    "for i in range(n):\n",
    "    i=int(input(\"Enter element\"))\n",
    "    arr.append(i)\n",
    "    \n",
    "for i in arr:\n",
    "    str+=\"{}\".format(i)\n",
    "print(str)"
   ]
  },
  {
   "cell_type": "markdown",
   "metadata": {},
   "source": [
    "### 09) Check if the password and confirm password is same or not. \n",
    "### In case of only case's mistake, show the error message."
   ]
  },
  {
   "cell_type": "code",
   "execution_count": 21,
   "metadata": {},
   "outputs": [
    {
     "name": "stdin",
     "output_type": "stream",
     "text": [
      "Enter password: hello\n",
      "Enter confirm password: hy\n"
     ]
    },
    {
     "name": "stdout",
     "output_type": "stream",
     "text": [
      "Not Same\n"
     ]
    }
   ],
   "source": [
    "str1 = input(\"Enter password:\")\n",
    "str2 = input(\"Enter confirm password:\")\n",
    "if str1==str2:\n",
    "    print(\"Same\")\n",
    "elif(str1.lower()==str2.lower()):\n",
    "    print(\"There is error\")\n",
    "else:\n",
    "    print(\"Not Same\")"
   ]
  },
  {
   "cell_type": "markdown",
   "metadata": {},
   "source": [
    "### 10) : Display credit card number. \n",
    "### card no. : 1234 5678 9012 3456\n",
    "### display as  : **** **** **** 3456"
   ]
  },
  {
   "cell_type": "code",
   "execution_count": 23,
   "metadata": {},
   "outputs": [
    {
     "name": "stdout",
     "output_type": "stream",
     "text": [
      "**** **** **** 3456\n"
     ]
    }
   ],
   "source": [
    "str=\"1234 5678 9012 3456\"\n",
    "str2=str.split()\n",
    "str3=str2[0:len(str2)-1]\n",
    "str4=str2[len(str2)-1]\n",
    "ans=\"\"\n",
    "for i in str3:\n",
    "    for j in i:\n",
    "        if(j!=\" \"):\n",
    "            j='*'\n",
    "        ans+=j\n",
    "    ans+=\" \"\n",
    "ans+=str4\n",
    "print(ans)"
   ]
  },
  {
   "cell_type": "markdown",
   "metadata": {},
   "source": [
    "### 11) : Checking if the two strings are Anagram or not.\n",
    "### s1 = decimal and s2 = medical are Anagram"
   ]
  },
  {
   "cell_type": "code",
   "execution_count": 29,
   "metadata": {},
   "outputs": [
    {
     "name": "stdin",
     "output_type": "stream",
     "text": [
      "Enter the first string: hello\n",
      "Enter the second string: olleh\n"
     ]
    },
    {
     "name": "stdout",
     "output_type": "stream",
     "text": [
      "Strings are anagram\n"
     ]
    }
   ],
   "source": [
    "str1 = input(\"Enter the first string:\")\n",
    "str2 = input(\"Enter the second string:\")\n",
    "for s in str1:\n",
    "    if s not in str2:\n",
    "        print(\"Strings are not anagram\")\n",
    "        break\n",
    "else:\n",
    "    print(\"Strings are anagram\")"
   ]
  },
  {
   "cell_type": "markdown",
   "metadata": {},
   "source": [
    "### 12) : Rearrange the given string. First lowercase then uppercase alphabets.\n",
    "### input : EHlsarwiwhtwMV\n",
    "### output : lsarwiwhtwEHMV"
   ]
  },
  {
   "cell_type": "code",
   "execution_count": null,
   "metadata": {},
   "outputs": [
    {
     "name": "stdout",
     "output_type": "stream",
     "text": [
      " EHlsarwiwhtwMV\n"
     ]
    },
    {
     "name": "stdout",
     "output_type": "stream",
     "text": [
      "first lowercase then uppercase :  lsarwiwhtw EHMV\n"
     ]
    }
   ],
   "source": [
    "s=input(\"Enter a input\")\n",
    "lower =' ' \n",
    "upper=' '\n",
    "for i in s :\n",
    "    if i.islower():\n",
    "        lower+=i\n",
    "    else:\n",
    "        upper+=i\n",
    "print(\"first lowercase then uppercase :\",lower+upper)"
   ]
  },
  {
   "cell_type": "code",
   "execution_count": null,
   "metadata": {},
   "outputs": [],
   "source": []
  }
 ],
 "metadata": {
  "kernelspec": {
   "display_name": "Python 3 (ipykernel)",
   "language": "python",
   "name": "python3"
  },
  "language_info": {
   "codemirror_mode": {
    "name": "ipython",
    "version": 3
   },
   "file_extension": ".py",
   "mimetype": "text/x-python",
   "name": "python",
   "nbconvert_exporter": "python",
   "pygments_lexer": "ipython3",
   "version": "3.12.7"
  },
  "vscode": {
   "interpreter": {
    "hash": "31f2aee4e71d21fbe5cf8b01ff0e069b9275f58929596ceb00d14d90e3e16cd6"
   }
  }
 },
 "nbformat": 4,
 "nbformat_minor": 4
}
