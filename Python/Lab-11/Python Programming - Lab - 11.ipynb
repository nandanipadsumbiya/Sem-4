{
 "cells": [
  {
   "attachments": {},
   "cell_type": "markdown",
   "metadata": {},
   "source": [
    "<a href='https://www.darshan.ac.in/'> <img src='https://www.darshan.ac.in/Content/media/DU_Logo.svg' width=\"250\" height=\"300\"/></a>\n",
    "<pre>\n",
    "<center><b><h1>Python Programming - 2301CS404</b></center>\n",
    "<center><b><h1>Lab - 11</b></center> \n",
    "<center><b><h1>Nandani Padsumbiya | 23010101182 | 12/02/2025 </b></center>    \n",
    "<pre>"
   ]
  },
  {
   "cell_type": "markdown",
   "metadata": {},
   "source": [
    "# Modules"
   ]
  },
  {
   "cell_type": "markdown",
   "metadata": {},
   "source": [
    "### 01) WAP to create Calculator module which defines functions like add, sub,mul and div. \n",
    "### Create another .py file that uses the functions available in Calculator module."
   ]
  },
  {
   "cell_type": "code",
   "execution_count": 1,
   "metadata": {},
   "outputs": [
    {
     "name": "stdin",
     "output_type": "stream",
     "text": [
      "Enter a number 1:  2\n",
      "Enter a number 2:  3\n"
     ]
    },
    {
     "name": "stdout",
     "output_type": "stream",
     "text": [
      "addition :  5\n",
      "Subtraction :  -1\n",
      "Multiplictaion :  6\n",
      "Division :  0\n"
     ]
    }
   ],
   "source": [
    "import calculator\n",
    "a=int(input(\"Enter a number 1: \"))\n",
    "b=int(input(\"Enter a number 2: \"))\n",
    "\n",
    "print(\"addition : \",calculator.add(a,b))\n",
    "print(\"Subtraction : \",calculator.sub(a,b))\n",
    "print(\"Multiplictaion : \",calculator.mul(a,b))\n",
    "print(\"Division : \",calculator.div(a,b))"
   ]
  },
  {
   "cell_type": "markdown",
   "metadata": {},
   "source": [
    "### 02) WAP to pick a random character from a given String."
   ]
  },
  {
   "cell_type": "code",
   "execution_count": 31,
   "metadata": {},
   "outputs": [
    {
     "name": "stdin",
     "output_type": "stream",
     "text": [
      "Enter a String : Nandu\n"
     ]
    },
    {
     "name": "stdout",
     "output_type": "stream",
     "text": [
      "Random character from the given string : N\n"
     ]
    }
   ],
   "source": [
    "import random\n",
    "str = input(\"Enter a String :\")\n",
    "print('Random character from the given string :',random.choice(str))"
   ]
  },
  {
   "cell_type": "code",
   "execution_count": 29,
   "metadata": {},
   "outputs": [
    {
     "name": "stdin",
     "output_type": "stream",
     "text": [
      "Enter String : Nandani\n"
     ]
    },
    {
     "name": "stdout",
     "output_type": "stream",
     "text": [
      "Random character from the given string : i\n"
     ]
    }
   ],
   "source": [
    "import random\n",
    "str = input('Enter String :')\n",
    "n = random.randrange(0,len(str))\n",
    "print('Random character from the given string :',str[n])"
   ]
  },
  {
   "cell_type": "markdown",
   "metadata": {},
   "source": [
    "### 03) WAP to pick a random element from a given list."
   ]
  },
  {
   "cell_type": "code",
   "execution_count": 25,
   "metadata": {},
   "outputs": [
    {
     "name": "stdout",
     "output_type": "stream",
     "text": [
      "Random element from the given list :  Nandani\n"
     ]
    }
   ],
   "source": [
    "li = ['Hello' , ' Nandani', '22' ,'37','380']\n",
    "print('Random element from the given list :',random.choice(li))\n"
   ]
  },
  {
   "cell_type": "markdown",
   "metadata": {},
   "source": [
    "### 04) WAP to roll a dice in such a way that every time you get the same number."
   ]
  },
  {
   "cell_type": "code",
   "execution_count": 71,
   "metadata": {},
   "outputs": [
    {
     "name": "stdout",
     "output_type": "stream",
     "text": [
      "Random same number : 2\n"
     ]
    }
   ],
   "source": [
    "random.seed(4)\n",
    "print('Random same number :',random.randint(1,6))"
   ]
  },
  {
   "cell_type": "markdown",
   "metadata": {},
   "source": [
    "### 05) WAP to generate 3 random integers between 100 and 999 which is divisible by 5."
   ]
  },
  {
   "cell_type": "code",
   "execution_count": 95,
   "metadata": {},
   "outputs": [
    {
     "name": "stdout",
     "output_type": "stream",
     "text": [
      "Random number between 100 and 999 which is divisible by 5 is =\n",
      "560\n",
      "450\n",
      "320\n"
     ]
    }
   ],
   "source": [
    "print('Random number between 100 and 999 which is divisible by 5 is =')\n",
    "for i in range(0,3):\n",
    "    n = random.randrange(100,999,5)\n",
    "    print(n)"
   ]
  },
  {
   "cell_type": "markdown",
   "metadata": {},
   "source": [
    "### 06) WAP to generate 100 random lottery tickets and pick two lucky tickets from it and announce them as Winner and Runner up respectively."
   ]
  },
  {
   "cell_type": "code",
   "execution_count": 104,
   "metadata": {},
   "outputs": [
    {
     "name": "stdout",
     "output_type": "stream",
     "text": [
      "Runner up is whose lottery ticket number is 4640\n",
      "Winner is whose lottery ticket number is 3675\n"
     ]
    }
   ],
   "source": [
    "li=[]\n",
    "for i in range(0,100):\n",
    "    n=random.randint(1000,9999)\n",
    "    li.append(n)\n",
    "\n",
    "Winner = random.choice(li)\n",
    "Runner_up = random.choice(li)\n",
    "\n",
    "while Winner==Runner_up:\n",
    "    Runner_up = random.choice(li)\n",
    "\n",
    "print('Runner up is whose lottery ticket number is',Winner)\n",
    "print('Winner is whose lottery ticket number is',Runner_up)\n"
   ]
  },
  {
   "cell_type": "markdown",
   "metadata": {},
   "source": [
    "### 07) WAP to print current date and time in Python."
   ]
  },
  {
   "cell_type": "code",
   "execution_count": 143,
   "metadata": {},
   "outputs": [
    {
     "name": "stdout",
     "output_type": "stream",
     "text": [
      "current date:  2025-02-12 13:28:37.401986\n",
      "current date:  2025-02-12\n",
      "current date:  2025-02-12 13:28:37.403392\n"
     ]
    }
   ],
   "source": [
    "import datetime\n",
    "print(\"current date: \",datetime.datetime.today())\n",
    "print(\"current date: \",datetime.date.today())\n",
    "print(\"current date: \",datetime.datetime.now())"
   ]
  },
  {
   "cell_type": "markdown",
   "metadata": {},
   "source": [
    "### 08) Subtract a week (7 days) from a given date in Python."
   ]
  },
  {
   "cell_type": "code",
   "execution_count": 116,
   "metadata": {},
   "outputs": [
    {
     "name": "stdin",
     "output_type": "stream",
     "text": [
      "Enter a date : 20/12/2025\n"
     ]
    },
    {
     "name": "stdout",
     "output_type": "stream",
     "text": [
      "2025-12-13 00:00:00\n"
     ]
    }
   ],
   "source": [
    "date = input(\"Enter a date :\")\n",
    "convert_date = datetime.datetime.strptime(date,\"%d/%m/%Y\")\n",
    "subtract_date = convert_date - datetime.timedelta(days=7)\n",
    "print(\"Subtract a week\",subtract_date)"
   ]
  },
  {
   "cell_type": "markdown",
   "metadata": {},
   "source": [
    "### 09) WAP to Calculate number of days between two given dates."
   ]
  },
  {
   "cell_type": "code",
   "execution_count": 125,
   "metadata": {},
   "outputs": [
    {
     "name": "stdin",
     "output_type": "stream",
     "text": [
      "Enter a date1:  20/12/2025\n",
      "Enter a date2:  25/12/2025\n"
     ]
    },
    {
     "name": "stdout",
     "output_type": "stream",
     "text": [
      "Calculate number of days between two given dates : 5\n"
     ]
    }
   ],
   "source": [
    "date1=input(\"Enter a date1: \")\n",
    "convert_date1 = datetime.datetime.strptime(date1,\"%d/%m/%Y\")\n",
    "\n",
    "date2=input(\"Enter a date2: \")\n",
    "convert_date2 = datetime.datetime.strptime(date2,\"%d/%m/%Y\")\n",
    "\n",
    "count=convert_date1.day-convert_date2.day\n",
    "print(\"Calculate number of days between two given dates :\",abs(count))"
   ]
  },
  {
   "cell_type": "markdown",
   "metadata": {},
   "source": [
    "### 10) WAP to Find the day of the week of a given date.(i.e. wether it is sunday/monday/tuesday/etc.)"
   ]
  },
  {
   "cell_type": "code",
   "execution_count": 147,
   "metadata": {},
   "outputs": [
    {
     "name": "stdin",
     "output_type": "stream",
     "text": [
      "Enter a date1:  12/02/2025\n"
     ]
    },
    {
     "name": "stdout",
     "output_type": "stream",
     "text": [
      "2025-02-12 00:00:00\n",
      "Wednesday\n"
     ]
    }
   ],
   "source": [
    "date=input(\"Enter a date1: \")\n",
    "convert_date = datetime.datetime.strptime(date,\"%d/%m/%Y\")\n",
    "\n",
    "print(convert_date)\n",
    "d1=convert_date.strftime(\"%A\")\n",
    "print(\"day of the week of a given date \",d1)"
   ]
  },
  {
   "cell_type": "markdown",
   "metadata": {},
   "source": [
    "### 11) WAP to demonstrate the use of date time module."
   ]
  },
  {
   "cell_type": "code",
   "execution_count": 149,
   "metadata": {},
   "outputs": [
    {
     "name": "stdout",
     "output_type": "stream",
     "text": [
      "2025-02-12 13:32:40.121095\n"
     ]
    }
   ],
   "source": [
    "import datetime\n",
    "print(datetime.datetime.today())"
   ]
  },
  {
   "cell_type": "markdown",
   "metadata": {},
   "source": [
    "### 12) WAP to demonstrate the use of the math module."
   ]
  },
  {
   "cell_type": "code",
   "execution_count": 153,
   "metadata": {},
   "outputs": [
    {
     "name": "stdout",
     "output_type": "stream",
     "text": [
      "3.141592653589793\n",
      "22\n"
     ]
    }
   ],
   "source": [
    "import math\n",
    "print(math.pi)\n",
    "print(math.floor(22.22))"
   ]
  }
 ],
 "metadata": {
  "kernelspec": {
   "display_name": "Python 3 (ipykernel)",
   "language": "python",
   "name": "python3"
  },
  "language_info": {
   "codemirror_mode": {
    "name": "ipython",
    "version": 3
   },
   "file_extension": ".py",
   "mimetype": "text/x-python",
   "name": "python",
   "nbconvert_exporter": "python",
   "pygments_lexer": "ipython3",
   "version": "3.12.7"
  }
 },
 "nbformat": 4,
 "nbformat_minor": 4
}
