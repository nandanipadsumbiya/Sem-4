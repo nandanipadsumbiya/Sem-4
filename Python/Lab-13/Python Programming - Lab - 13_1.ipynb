{
 "cells": [
  {
   "cell_type": "markdown",
   "metadata": {},
   "source": [
    "<a href='https://www.darshan.ac.in/'> <img src='https://www.darshan.ac.in/Content/media/DU_Logo.svg' width=\"250\" height=\"300\"/></a>\n",
    "<pre>\n",
    "<center><b><h1>Python Programming - 2301CS404</b></center>\n",
    "<center><b><h1>Lab - 13</b></center>   \n",
    "<center><b><h1>Nandani Padsumbiya | 23010101182 | 05/03/2025</b></center>  \n",
    "<pre>"
   ]
  },
  {
   "cell_type": "markdown",
   "metadata": {},
   "source": [
    "# OOP"
   ]
  },
  {
   "cell_type": "markdown",
   "metadata": {},
   "source": [
    "### 01) Write a Program to create a class by name Students, and initialize attributes like name, age, and grade while creating an object."
   ]
  },
  {
   "cell_type": "code",
   "execution_count": 4,
   "metadata": {},
   "outputs": [
    {
     "name": "stdout",
     "output_type": "stream",
     "text": [
      "Nandani\n",
      "19\n",
      "A+\n"
     ]
    }
   ],
   "source": [
    "class Student:\n",
    "    def __init__(self,name,age,grade):\n",
    "        self.name = name\n",
    "        self.age = age\n",
    "        self.grade = grade\n",
    "\n",
    "ob = Student('Nandani',19,'A+')\n",
    "print(ob.name)\n",
    "print(ob.age)\n",
    "print(ob.grade)"
   ]
  },
  {
   "cell_type": "markdown",
   "metadata": {},
   "source": [
    "### 02) Create a class named Bank_Account with Account_No, User_Name, Email,Account_Type and Account_Balance data members. Also create a method GetAccountDetails() and DisplayAccountDetails(). Create main method to demonstrate the Bank_Account class."
   ]
  },
  {
   "cell_type": "code",
   "execution_count": 18,
   "metadata": {},
   "outputs": [
    {
     "name": "stdin",
     "output_type": "stream",
     "text": [
      "Enter Account_no 101\n",
      "Enter your Name nandnai\n",
      "Enter your Email nandani@gmail.com\n",
      "Enter your Account type salary\n",
      "Enter yout Account Balance 10000000000\n"
     ]
    },
    {
     "name": "stdout",
     "output_type": "stream",
     "text": [
      "account number  101\n",
      "User Name :  nandnai\n",
      "Email : nandani@gmail.com\n",
      "Account Type : salary\n",
      "Account Balance : 10000000000\n"
     ]
    }
   ],
   "source": [
    "class Bank_Account:\n",
    "    def __init__(self):\n",
    "        pass\n",
    "\n",
    "    def GetAccountDetails(self):\n",
    "         self.Act_no =int(input(\"Enter Account_no\"))\n",
    "         self.Name = input(\"Enter your Name\")\n",
    "         self.Email = input(\"Enter your Email\")\n",
    "         self.Act_type = input(\"Enter your Account type\")\n",
    "         self.Act_Balance = int(input(\"Enter yout Account Balance\"))\n",
    "         \n",
    "\n",
    "    def DisplayAccountDetails(self):\n",
    "        print(\"account number :\",self.Act_no)\n",
    "        print(\"User Name : \",self.Name)\n",
    "        print(\"Email :\",self.Email)\n",
    "        print(\"Account Type :\",self.Act_type)\n",
    "        print(\"Account Balance :\",self.Act_Balance)\n",
    "\n",
    "ac = Bank_Account()\n",
    "ac.GetAccountDetails()\n",
    "ac.DisplayAccountDetails()"
   ]
  },
  {
   "cell_type": "markdown",
   "metadata": {},
   "source": [
    "### 03) WAP to create Circle class with area and perimeter function to find area and perimeter of circle."
   ]
  },
  {
   "cell_type": "code",
   "execution_count": 22,
   "metadata": {},
   "outputs": [
    {
     "name": "stdout",
     "output_type": "stream",
     "text": [
      "Area of the given radius of the circle:  3.14\n",
      "perimiter of the given radius of the circle:  6.28\n"
     ]
    }
   ],
   "source": [
    "class Circle:\n",
    "    area = 0\n",
    "    perimeter = 0\n",
    "    def __init__ (self,radius):\n",
    "        self.radius = radius\n",
    "\n",
    "    def findArea(self):\n",
    "        area = 3.14 * self.radius * self.radius\n",
    "        print('Area of the given radius of the circle: ',area)\n",
    "\n",
    "    def findperimeter(self):\n",
    "        perimeter = 2*3.14*self.radius\n",
    "        print('perimiter of the given radius of the circle: ',perimeter)\n",
    "\n",
    "c = Circle(1)\n",
    "c.findArea()\n",
    "c.findperimeter()"
   ]
  },
  {
   "cell_type": "markdown",
   "metadata": {},
   "source": [
    "### 04) Create a class for employees that includes attributes such as name, age, salary, and methods to update and display employee information."
   ]
  },
  {
   "cell_type": "code",
   "execution_count": 32,
   "metadata": {},
   "outputs": [
    {
     "name": "stdout",
     "output_type": "stream",
     "text": [
      "Employee name : Nandani\n",
      "Employee age : 19\n",
      "Employee salary : 20000\n",
      "\n",
      "update information......\n",
      "\n",
      "Employee name : Nandani\n",
      "Employee age : 19\n",
      "Employee salary : 110000\n"
     ]
    }
   ],
   "source": [
    "class Employees:\n",
    "    def __init__ (self,name,age,salary):\n",
    "        self.name = name\n",
    "        self.age = age\n",
    "        self.salary = salary\n",
    "\n",
    "    def UpdateData(self,name=None , age=None , salary=None):\n",
    "        if name:\n",
    "            self.name = name\n",
    "        elif age:\n",
    "            self.age = age\n",
    "        else:\n",
    "            self.salary = salary\n",
    "\n",
    "    def DisplayData(self):\n",
    "        print(\"Employee name :\",self.name)\n",
    "        print(\"Employee age :\",self.age)\n",
    "        print(\"Employee salary :\",self.salary)\n",
    "\n",
    "e1 = Employees(\"Nandani\",19,20000)\n",
    "e1.DisplayData()\n",
    "\n",
    "print(\"\\nupdate information......\\n\")\n",
    "e1 = Employees(\"Nandani\",19,110000)\n",
    "e1.DisplayData()"
   ]
  },
  {
   "cell_type": "markdown",
   "metadata": {},
   "source": [
    "### 05) Create a bank account class with methods to deposit, withdraw, and check balance."
   ]
  },
  {
   "cell_type": "code",
   "execution_count": 45,
   "metadata": {},
   "outputs": [
    {
     "name": "stdout",
     "output_type": "stream",
     "text": [
      "You Deposit  1000 in your account\n",
      "You withdraw  2000 from your account\n",
      "now your balance in your account is : 1000\n"
     ]
    }
   ],
   "source": [
    "class Bank_Account:\n",
    "    Name = \"\"\n",
    "    Account_balance = 0\n",
    "\n",
    "    def __init__(self,Name,Account_balance):\n",
    "        self.Name = Name\n",
    "        self.Account_balance = Account_balance\n",
    "\n",
    "    def Deposit(self,money):\n",
    "        self.Account_balance = money + self.Account_balance\n",
    "        print(\"You Deposit \",money,\"in your account\")\n",
    "\n",
    "    def Withdraw(self,money):\n",
    "        if(self.Account_balance<money):\n",
    "            print(\"Insufficient balance\")\n",
    "        else:\n",
    "            self.Account_balance = self.Account_balance - money\n",
    "            print(\"You withdraw \",money,\"from your account\")\n",
    "\n",
    "    def CheckBalance(self):\n",
    "         print(\"now your balance in your account is :\",self.Account_balance)\n",
    "\n",
    "ac1 = Bank_Account(\"Nandani\" , 2000)\n",
    "ac1.Deposit(1000)\n",
    "ac1.Withdraw(2000)\n",
    "ac1.CheckBalance()"
   ]
  },
  {
   "cell_type": "markdown",
   "metadata": {},
   "source": [
    "### 06) Create a class for managing inventory that includes attributes such as item name, price, quantity, and methods to add, remove, and update items."
   ]
  },
  {
   "cell_type": "code",
   "execution_count": 63,
   "metadata": {},
   "outputs": [
    {
     "name": "stdin",
     "output_type": "stream",
     "text": [
      "Enter your items name:  mobile\n",
      "Enter item price : 120000\n",
      "Enter a quantity of your item: 4\n"
     ]
    },
    {
     "name": "stdout",
     "output_type": "stream",
     "text": [
      "\n",
      " after add data...\n",
      "\n",
      "Item name is : mobile\n",
      "Item price is : 120000.0\n",
      "Item quantity is :  4\n",
      "\n",
      " after update Items........\n",
      "\n",
      "Item name is : laptop\n",
      "Item price is : 1\n",
      "Item quantity is :  4\n",
      "\n",
      " after delete items Items........\n",
      "\n",
      "Item name is : None\n",
      "Item price is : None\n",
      "Item quantity is :  None\n"
     ]
    }
   ],
   "source": [
    "class Managing_inventory:\n",
    "    def __init__ (self):\n",
    "        pass\n",
    "\n",
    "    def AddItems(self):\n",
    "        self.name = input(\"Enter your items name: \")\n",
    "        self.price = float(input(\"Enter item price :\"))\n",
    "        self.quantity = int(input(\"Enter a quantity of your item:\"))\n",
    "\n",
    "    def DisplayItem(self):\n",
    "        print(\"Item name is :\",self.name)\n",
    "        print(\"Item price is :\",self.price)\n",
    "        print(\"Item quantity is : \",self.quantity)\n",
    "\n",
    "    def  UpdateItem(self,name=None,price=None,quantity=None):\n",
    "        if name:\n",
    "            self.name = name\n",
    "        if price:\n",
    "            self.price = price\n",
    "        if quantity:\n",
    "            self.quantity = quantity\n",
    "\n",
    "    def DeleteItem(self):\n",
    "        self.name = None\n",
    "        self.price = None\n",
    "        self.quantity = None\n",
    "\n",
    "items = Managing_inventory()\n",
    "items.AddItems()\n",
    "\n",
    "print(\"\\n after add data...\\n\")\n",
    "items.DisplayItem()\n",
    "\n",
    "print(\"\\n after update Items........\\n\")\n",
    "items.UpdateItem(name='laptop' , price =1)\n",
    "items.DisplayItem()\n",
    "\n",
    "print(\"\\n after delete items Items........\\n\")\n",
    "items.DeleteItem()\n",
    "items.DisplayItem()"
   ]
  },
  {
   "cell_type": "markdown",
   "metadata": {},
   "source": [
    "### 07) Create a Class with instance attributes of your choice."
   ]
  },
  {
   "cell_type": "code",
   "execution_count": 9,
   "metadata": {},
   "outputs": [
    {
     "name": "stdout",
     "output_type": "stream",
     "text": [
      "Your name is : Nandani\n",
      "Your eno is : 23010101182\n",
      "Your age is : 19\n"
     ]
    }
   ],
   "source": [
    "class Student:\n",
    "    def __init__(self,name,eno,age):\n",
    "        self.name = name\n",
    "        self.eno = eno\n",
    "        self.age = age\n",
    "\n",
    "ob = Student('Nandani',23010101182,19)\n",
    "print(\"Your name is :\",ob.name)\n",
    "print(\"Your eno is :\",ob.eno)\n",
    "print(\"Your age is :\",ob.age)"
   ]
  },
  {
   "cell_type": "markdown",
   "metadata": {},
   "source": [
    "### 08) Create one class student_kit\n",
    "#### Within the student_kit class create one class attribute principal name ( Mr ABC )\n",
    "#### Create one attendance method and take input as number of days.\n",
    "#### While creating student take input their name .\n",
    "#### Create one certificate for each student by taking input of number of days present in class."
   ]
  },
  {
   "cell_type": "code",
   "execution_count": 15,
   "metadata": {},
   "outputs": [
    {
     "name": "stdin",
     "output_type": "stream",
     "text": [
      "Enter student name:  john Dave\n",
      "Enter number of days present:  50\n"
     ]
    },
    {
     "name": "stdout",
     "output_type": "stream",
     "text": [
      "Certificate of Attendance\n",
      "This is to certify that john Dave has attended 50 days of classes.\n",
      "Signed by: Mr ABC\n"
     ]
    }
   ],
   "source": [
    "class student_kit:\n",
    "    principal_name = \"Mr ABC\"\n",
    "\n",
    "    def __init__(self, name):\n",
    "        self.name = name \n",
    "        self.attendance_days = 0 \n",
    "\n",
    "    def attendance(self, days):\n",
    "        self.attendance_days = days \n",
    "\n",
    "    def generate_certificate(self):\n",
    "        print(f\"Certificate of Attendance\")\n",
    "        print(f\"This is to certify that {self.name} has attended {self.attendance_days} days of classes.\")\n",
    "        print(f\"Signed by: {student_kit.principal_name}\")\n",
    "\n",
    "\n",
    "student_name = input(\"Enter student name: \")\n",
    "student = student_kit(student_name)\n",
    "\n",
    "days_present = int(input(\"Enter number of days present: \"))\n",
    "student.attendance(days_present)\n",
    "\n",
    "student.generate_certificate()"
   ]
  },
  {
   "cell_type": "markdown",
   "metadata": {},
   "source": [
    "### 09) Define Time class with hour and minute as data member. Also define addition method to add two time objects."
   ]
  },
  {
   "cell_type": "code",
   "execution_count": 19,
   "metadata": {},
   "outputs": [
    {
     "name": "stdout",
     "output_type": "stream",
     "text": [
      "Time: 4 hours and 15 minutes\n"
     ]
    }
   ],
   "source": [
    "class Time:\n",
    "    def __init__(self, hour, minute):\n",
    "        self.hour = hour\n",
    "        self.minute = minute\n",
    "\n",
    "    def add(self, other):\n",
    "        total_minutes = self.minute + other.minute\n",
    "        extra_hour = total_minutes // 60\n",
    "        minutes = total_minutes % 60\n",
    "        hours = self.hour + other.hour + extra_hour\n",
    "        return Time(hours, minutes)\n",
    "\n",
    "    def display(self):\n",
    "        print(f\"Time: {self.hour} hours and {self.minute} minutes\")\n",
    "\n",
    "\n",
    "time1 = Time(2, 45)\n",
    "time2 = Time(1, 30)\n",
    "\n",
    "result = time1.add(time2)\n",
    "result.display()\n"
   ]
  }
 ],
 "metadata": {
  "kernelspec": {
   "display_name": "Python 3 (ipykernel)",
   "language": "python",
   "name": "python3"
  },
  "language_info": {
   "codemirror_mode": {
    "name": "ipython",
    "version": 3
   },
   "file_extension": ".py",
   "mimetype": "text/x-python",
   "name": "python",
   "nbconvert_exporter": "python",
   "pygments_lexer": "ipython3",
   "version": "3.12.7"
  }
 },
 "nbformat": 4,
 "nbformat_minor": 4
}
