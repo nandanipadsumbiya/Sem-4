{
 "cells": [
  {
   "cell_type": "markdown",
   "metadata": {},
   "source": [
    "<a href='https://www.darshan.ac.in/'> <img src='https://www.darshan.ac.in/Content/media/DU_Logo.svg' width=\"250\" height=\"10\"/></a>\n",
    "<pre>\n",
    "<center><b><h1>Python Programming - 2301CS404</b></center>\n",
    "<center><b><h1>Lab - 1</b></center>    \n",
    "<pre>\n",
    "<center><b><h1> Nandani Padsumbiya | 23010101182 | 27/11/2024 </b></center>\n"
   ]
  },
  {
   "cell_type": "markdown",
   "metadata": {},
   "source": [
    "### 01) WAP to print “Hello World”"
   ]
  },
  {
   "cell_type": "code",
   "execution_count": 1,
   "metadata": {},
   "outputs": [
    {
     "name": "stdout",
     "output_type": "stream",
     "text": [
      "Hello World\n"
     ]
    }
   ],
   "source": [
    "print(\"Hello World\")"
   ]
  },
  {
   "cell_type": "markdown",
   "metadata": {},
   "source": [
    "### 02) WAP to print addition of two numbers with and without using input()."
   ]
  },
  {
   "cell_type": "code",
   "execution_count": 16,
   "metadata": {},
   "outputs": [
    {
     "name": "stdout",
     "output_type": "stream",
     "text": [
      "->without input\n",
      "24\n",
      "->with input\n"
     ]
    },
    {
     "name": "stdout",
     "output_type": "stream",
     "text": [
      "Enter number A :  12\n",
      "Enter number B :  12\n"
     ]
    },
    {
     "name": "stdout",
     "output_type": "stream",
     "text": [
      "24\n"
     ]
    }
   ],
   "source": [
    "print(\"->without input\")\n",
    "a , b = 12,12\n",
    "c=a+b\n",
    "print(c)\n",
    "print(\"->with input\")\n",
    "a=int(input(\"Enter number A : \"))\n",
    "b=int(input(\"Enter number B : \"))\n",
    "c=a+b\n",
    "print(c)"
   ]
  },
  {
   "cell_type": "markdown",
   "metadata": {},
   "source": [
    "### 03) WAP to check the type of the variable."
   ]
  },
  {
   "cell_type": "code",
   "execution_count": 12,
   "metadata": {},
   "outputs": [
    {
     "name": "stdout",
     "output_type": "stream",
     "text": [
      "<class 'int'>\n"
     ]
    }
   ],
   "source": [
    "a=12\n",
    "print(type(a))"
   ]
  },
  {
   "cell_type": "markdown",
   "metadata": {},
   "source": [
    "### 04) WAP to calculate simple interest."
   ]
  },
  {
   "cell_type": "code",
   "execution_count": 18,
   "metadata": {},
   "outputs": [
    {
     "name": "stdout",
     "output_type": "stream",
     "text": [
      "0.6666666666666666\n"
     ]
    }
   ],
   "source": [
    "P=12\n",
    "R=4\n",
    "T=2\n",
    "N=144\n",
    "ans = (P*R *T)/N\n",
    "print(ans)"
   ]
  },
  {
   "cell_type": "markdown",
   "metadata": {},
   "source": [
    "### 05) WAP to calculate area and perimeter of a circle."
   ]
  },
  {
   "cell_type": "code",
   "execution_count": 24,
   "metadata": {},
   "outputs": [
    {
     "name": "stdout",
     "output_type": "stream",
     "text": [
      "12.566370614359172\n",
      "-->Perimeter \n",
      "12.566370614359172\n"
     ]
    }
   ],
   "source": [
    "import math\n",
    "R=2\n",
    "area = math.pi* R * R\n",
    "print(area)\n",
    "\n",
    "print(\"-->Perimeter \")\n",
    "area2 = 2 * math.pi * R\n",
    "print(area2)\n"
   ]
  },
  {
   "cell_type": "markdown",
   "metadata": {},
   "source": [
    "### 06) WAP to calculate area of a triangle."
   ]
  },
  {
   "cell_type": "code",
   "execution_count": 26,
   "metadata": {},
   "outputs": [
    {
     "name": "stdout",
     "output_type": "stream",
     "text": [
      "Enter number B :  2\n",
      "Enter number H :  3\n"
     ]
    },
    {
     "name": "stdout",
     "output_type": "stream",
     "text": [
      "3.0\n"
     ]
    }
   ],
   "source": [
    "import math \n",
    "B =int(input(\"Enter number B : \"))\n",
    "H=int(input(\"Enter number H : \"))\n",
    "ans = (1/2)* B * H\n",
    "print(ans)\n"
   ]
  },
  {
   "cell_type": "markdown",
   "metadata": {},
   "source": [
    "### 07) WAP to compute quotient and remainder."
   ]
  },
  {
   "cell_type": "code",
   "execution_count": 28,
   "metadata": {},
   "outputs": [
    {
     "name": "stdout",
     "output_type": "stream",
     "text": [
      "Enter number A :  12\n",
      "Enter number B :  12\n"
     ]
    },
    {
     "name": "stdout",
     "output_type": "stream",
     "text": [
      "1.0\n",
      "1\n",
      "0\n"
     ]
    }
   ],
   "source": [
    "a=int(input(\"Enter number A : \"))\n",
    "b=int(input(\"Enter number B : \"))\n",
    "\n",
    "print(a/b)\n",
    "print(a//b)\n",
    "print(a%b)\n"
   ]
  },
  {
   "cell_type": "markdown",
   "metadata": {},
   "source": [
    "### 08) WAP to convert degree into Fahrenheit and vice versa."
   ]
  },
  {
   "cell_type": "code",
   "execution_count": null,
   "metadata": {},
   "outputs": [],
   "source": [
    "Degree =int(input(\"Enter number Degree : \"))\n",
    "Fahrenheit =int(input(\"Enter number Fahrenheit : \"))"
   ]
  },
  {
   "cell_type": "markdown",
   "metadata": {},
   "source": [
    "### 09) WAP to find the distance between two points in 2-D space."
   ]
  },
  {
   "cell_type": "code",
   "execution_count": 29,
   "metadata": {},
   "outputs": [
    {
     "name": "stdin",
     "output_type": "stream",
     "text": [
      "Enter x for first point 8\n",
      "Enter y for first point 4\n",
      "Enter x for second point 4\n",
      "Enter y for second point 2\n"
     ]
    },
    {
     "name": "stdout",
     "output_type": "stream",
     "text": [
      "distance is : 6.82842712474619\n"
     ]
    }
   ],
   "source": [
    "import math\n",
    "x1 = float(input(\"Enter x1 for first point\"))\n",
    "y1 = float(input(\"Enter y1 for first point\"))\n",
    "x2 = float(input(\"Enter x2 for second point\"))\n",
    "y2 = float(input(\"Enter y2 for second point\"))\n",
    "\n",
    "distance = math.sqrt((x1-x2)*2)+((y1-y2)*2)\n",
    "print(\"distance is :\",distance)"
   ]
  },
  {
   "cell_type": "markdown",
   "metadata": {},
   "source": [
    "### 10) WAP to print sum of n natural numbers."
   ]
  },
  {
   "cell_type": "code",
   "execution_count": 49,
   "metadata": {},
   "outputs": [
    {
     "name": "stdin",
     "output_type": "stream",
     "text": [
      "Enter a number N : 2\n"
     ]
    },
    {
     "name": "stdout",
     "output_type": "stream",
     "text": [
      "your answer is : 3.0\n"
     ]
    }
   ],
   "source": [
    "N = int(input(\"Enter a number N :\"))\n",
    "if(N>0):\n",
    "        sum =(N*(N+1))/2\n",
    "        print(\"your answer is :\",sum)\n",
    "else:\n",
    "        print(\"please Enter a positive integer number\")"
   ]
  },
  {
   "cell_type": "markdown",
   "metadata": {},
   "source": [
    "### 11) WAP to print sum of square of n natural numbers."
   ]
  },
  {
   "cell_type": "code",
   "execution_count": 53,
   "metadata": {},
   "outputs": [
    {
     "name": "stdin",
     "output_type": "stream",
     "text": [
      "Enter a number N : 2\n"
     ]
    },
    {
     "name": "stdout",
     "output_type": "stream",
     "text": [
      "your answer is : 5.0\n"
     ]
    }
   ],
   "source": [
    "N = int(input(\"Enter a number N :\"))\n",
    "if(N1>0):\n",
    "    sum = (N * (N+1) *(2*N+1)/6)\n",
    "    print(\"your answer is :\",sum)\n",
    "else:\n",
    "    print(\"please Enter a positive integer number\")"
   ]
  },
  {
   "cell_type": "markdown",
   "metadata": {},
   "source": [
    "### 12) WAP to concate the first and last name of the student."
   ]
  },
  {
   "cell_type": "code",
   "execution_count": 57,
   "metadata": {},
   "outputs": [
    {
     "name": "stdin",
     "output_type": "stream",
     "text": [
      "Enter a first Name : nandani\n",
      "Enter a last Name : padsumbiya\n"
     ]
    },
    {
     "name": "stdout",
     "output_type": "stream",
     "text": [
      "your full name is : nandani padsumbiya\n"
     ]
    }
   ],
   "source": [
    "First_name = input(\"Enter a first Name :\")\n",
    "Last_name = input(\"Enter a last Name :\")\n",
    "\n",
    "Full_Name = First_name +\" \"+Last_name\n",
    "print(\"your full name is :\",Full_Name)"
   ]
  },
  {
   "cell_type": "markdown",
   "metadata": {},
   "source": [
    "### 13) WAP to swap two numbers."
   ]
  },
  {
   "cell_type": "code",
   "execution_count": 15,
   "metadata": {},
   "outputs": [
    {
     "name": "stdin",
     "output_type": "stream",
     "text": [
      "Enter a value for a: 34\n",
      "Enter a value for b: 45\n"
     ]
    },
    {
     "name": "stdout",
     "output_type": "stream",
     "text": [
      "a = 45\n",
      "b = 34\n"
     ]
    }
   ],
   "source": [
    "a = int (input(\"Enter a value for a:\"))\n",
    "b = int(input(\"Enter a value for b:\"))\n",
    "a=a+b\n",
    "b=a-b\n",
    "a=a-b\n",
    "print(\"a =\",a)\n",
    "print(\"b =\",b)\n"
   ]
  },
  {
   "cell_type": "markdown",
   "metadata": {},
   "source": [
    "### 14) WAP to get the distance from user into kilometer, and convert it into meter, feet, inches and centimeter."
   ]
  },
  {
   "cell_type": "code",
   "execution_count": 67,
   "metadata": {},
   "outputs": [
    {
     "name": "stdin",
     "output_type": "stream",
     "text": [
      "Enter a Kilometer value : 1\n"
     ]
    },
    {
     "name": "stdout",
     "output_type": "stream",
     "text": [
      "kilometer convert into meter : 1000.0\n",
      "kilometer convert into feet : 3280.84\n",
      "kilometer convert into inches : 39370.1\n",
      "kilometer convert into centimeter : 100000.0\n"
     ]
    }
   ],
   "source": [
    "kilometer = float(input (\"Enter a Kilometer value :\"))\n",
    "\n",
    "meter = kilometer * 1000\n",
    "feet = kilometer * 3280.84\n",
    "inches = kilometer * 39370.1\n",
    "centimeter = kilometer * 100000\n",
    "\n",
    "print(\"kilometer convert into meter :\",meter)\n",
    "print(\"kilometer convert into feet :\",feet)\n",
    "print(\"kilometer convert into inches :\",inches)\n",
    "print(\"kilometer convert into centimeter :\",centimeter)"
   ]
  },
  {
   "cell_type": "markdown",
   "metadata": {},
   "source": [
    "### 15) WAP to get day, month and year from the user and print the date in the given format: 23-11-2024."
   ]
  },
  {
   "cell_type": "code",
   "execution_count": 78,
   "metadata": {},
   "outputs": [
    {
     "name": "stdin",
     "output_type": "stream",
     "text": [
      "Enter a day : 23\n",
      "Enter a month : 08\n",
      "Enter a year : 2004\n"
     ]
    },
    {
     "name": "stdout",
     "output_type": "stream",
     "text": [
      "date in format : 23-08-2004\n"
     ]
    }
   ],
   "source": [
    "day = input(\"Enter a day :\")\n",
    "month = input (\"Enter a month :\")\n",
    "year = input (\"Enter a year :\")\n",
    "\n",
    "date = f\"{day}-{month}-{year}\"\n",
    "print(\"date in format :\",date)"
   ]
  },
  {
   "cell_type": "code",
   "execution_count": null,
   "metadata": {},
   "outputs": [],
   "source": []
  }
 ],
 "metadata": {
  "kernelspec": {
   "display_name": "Python 3 (ipykernel)",
   "language": "python",
   "name": "python3"
  },
  "language_info": {
   "codemirror_mode": {
    "name": "ipython",
    "version": 3
   },
   "file_extension": ".py",
   "mimetype": "text/x-python",
   "name": "python",
   "nbconvert_exporter": "python",
   "pygments_lexer": "ipython3",
   "version": "3.12.7"
  },
  "vscode": {
   "interpreter": {
    "hash": "31f2aee4e71d21fbe5cf8b01ff0e069b9275f58929596ceb00d14d90e3e16cd6"
   }
  }
 },
 "nbformat": 4,
 "nbformat_minor": 4
}
