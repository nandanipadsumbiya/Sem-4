{
 "cells": [
  {
   "cell_type": "markdown",
   "metadata": {},
   "source": [
    "<a href='https://www.darshan.ac.in/'> <img src='https://www.darshan.ac.in/Content/media/DU_Logo.svg' width=\"250\" height=\"300\"/></a>\n",
    "<pre>\n",
    "<center><b><h1>Python Programming - 2301CS404</b></center>\n",
    "<center><b><h1>Lab - 10</b></center>\n",
    "<center><b><h1>Nandani padsumbiya | 23010101182 | 05/02/2025</b></center>\n",
    "<pre>"
   ]
  },
  {
   "cell_type": "markdown",
   "metadata": {},
   "source": [
    "# Exception Handling"
   ]
  },
  {
   "cell_type": "markdown",
   "metadata": {},
   "source": [
    "### 01) WAP to handle following exceptions:\n",
    "1. ZeroDivisionError\n",
    "2. ValueError\n",
    "3. TypeError\n",
    "#### Note: handle them using separate except blocks and also using single except block too."
   ]
  },
  {
   "cell_type": "code",
   "execution_count": 16,
   "metadata": {},
   "outputs": [
    {
     "name": "stdin",
     "output_type": "stream",
     "text": [
      "Enter a number a 1\n",
      "Enter a number b cbd\n"
     ]
    },
    {
     "name": "stdout",
     "output_type": "stream",
     "text": [
      "String Can't by divide\n"
     ]
    }
   ],
   "source": [
    "try:\n",
    "    a= int(input(\"Enter a number a\"))\n",
    "    b=int(input(\"Enter a number b\"))\n",
    "    c=input(\"Enter a String\")\n",
    "    d=a+c\n",
    "    print(d)\n",
    "except ZeroDivisionError:\n",
    "    print(\"number Can't divide by zero,zerodivision error\")\n",
    "except ValueError:\n",
    "    print(\"String Can't by divide,value error\")\n",
    "except TypeError:\n",
    "    print(\"type Error\")"
   ]
  },
  {
   "cell_type": "markdown",
   "metadata": {},
   "source": [
    "### 02)  WAP to handle following exceptions:\n",
    "1. IndexError\n",
    "2. KeyError"
   ]
  },
  {
   "cell_type": "code",
   "execution_count": 48,
   "metadata": {},
   "outputs": [
    {
     "name": "stdin",
     "output_type": "stream",
     "text": [
      "Enter a index 8\n"
     ]
    },
    {
     "name": "stdout",
     "output_type": "stream",
     "text": [
      "Index Error\n"
     ]
    }
   ],
   "source": [
    "l1=[12,13,14,15,16]\n",
    "index = int(input(\"Enter a index\"))\n",
    "try:\n",
    "    print(l1[index])\n",
    "except IndexError:\n",
    "    print(\"Index Error\")"
   ]
  },
  {
   "cell_type": "code",
   "execution_count": 51,
   "metadata": {},
   "outputs": [
    {
     "name": "stdin",
     "output_type": "stream",
     "text": [
      "Enter a key 6\n"
     ]
    },
    {
     "name": "stdout",
     "output_type": "stream",
     "text": [
      "Key not found | Key Error\n"
     ]
    }
   ],
   "source": [
    "d1={1:\"nandani\",2:\"Shruti\",3:\"riya\",4:\"mansi\",5:\"darshi\"}\n",
    "key= int(input(\"Enter a key\"))\n",
    "try:\n",
    "    print(d1[key])\n",
    "except KeyError:\n",
    "    print(\"Key not found | Key Error\")"
   ]
  },
  {
   "cell_type": "markdown",
   "metadata": {},
   "source": [
    "### 03) WAP to handle following exceptions:\n",
    "1. FileNotFoundError\n",
    "2. ModuleNotFoundError"
   ]
  },
  {
   "cell_type": "code",
   "execution_count": 89,
   "metadata": {},
   "outputs": [
    {
     "name": "stdin",
     "output_type": "stream",
     "text": [
      "Enter a file abc1.txt\n"
     ]
    },
    {
     "name": "stdout",
     "output_type": "stream",
     "text": [
      "FileNot Found Error\n"
     ]
    }
   ],
   "source": [
    "try:\n",
    "    file=input(\"Enter a file\")\n",
    "    fp=open(file,\"r\")\n",
    "    print(fp.read())\n",
    "    fp.close\n",
    "except FileNotFoundError:\n",
    "    print(\"FileNot Found Error\")"
   ]
  },
  {
   "cell_type": "code",
   "execution_count": 97,
   "metadata": {},
   "outputs": [
    {
     "name": "stdin",
     "output_type": "stream",
     "text": [
      "Enter module name maths\n"
     ]
    },
    {
     "name": "stdout",
     "output_type": "stream",
     "text": [
      "Module not found Error\n"
     ]
    }
   ],
   "source": [
    "try:\n",
    "    m=input(\"Enter module name\")\n",
    "    __import__(m)\n",
    "    print(\"module is available\")\n",
    "except ModuleNotFoundError:\n",
    "    print(\"Module not found Error\")"
   ]
  },
  {
   "cell_type": "markdown",
   "metadata": {},
   "source": [
    "### 04) WAP that catches all type of exceptions in a single except block."
   ]
  },
  {
   "cell_type": "code",
   "execution_count": 101,
   "metadata": {},
   "outputs": [
    {
     "name": "stdin",
     "output_type": "stream",
     "text": [
      "Enter a number zxc\n"
     ]
    },
    {
     "name": "stdout",
     "output_type": "stream",
     "text": [
      "Exception\n"
     ]
    }
   ],
   "source": [
    "try:\n",
    "    a=int(input(\"Enter a number\"))\n",
    "    print(a)\n",
    "except Exception:\n",
    "    print(\"Exception\")   "
   ]
  },
  {
   "cell_type": "markdown",
   "metadata": {},
   "source": [
    "### 05) WAP to demonstrate else  and finally block."
   ]
  },
  {
   "cell_type": "code",
   "execution_count": 113,
   "metadata": {},
   "outputs": [
    {
     "name": "stdin",
     "output_type": "stream",
     "text": [
      "Enter a number a 1\n",
      "Enter a number b 2\n"
     ]
    },
    {
     "name": "stdout",
     "output_type": "stream",
     "text": [
      "a+b :  3\n",
      "division succesfully: 3\n",
      "execution succesfully\n"
     ]
    }
   ],
   "source": [
    "try:\n",
    "    a= int(input(\"Enter a number a\"))\n",
    "    b=int(input(\"Enter a number b\"))\n",
    "    # c=input(\"Enter a String\")\n",
    "    result = a+b\n",
    "    print(\"a+b : \",result)\n",
    "    # d=a+c\n",
    "    # print(d)\n",
    "except ZeroDivisionError:\n",
    "    print(\"number Can't divide by zero,zerodivision error\")\n",
    "except ValueError:\n",
    "    print(\"String Can't by divide,value error\")\n",
    "except TypeError:\n",
    "    print(\"type Error\")\n",
    "else:\n",
    "    print(\"division succesfully:\",result)\n",
    "finally:\n",
    "    print(\"execution succesfully\")"
   ]
  },
  {
   "cell_type": "markdown",
   "metadata": {},
   "source": [
    "### 06) Create a short program that prompts the user for a list of grades separated by commas. \n",
    "### Split the string into individual grades and use a list comprehension to convert each string to an integer. \n",
    "### You should use a try statement to inform the user when the values they entered cannot be converted."
   ]
  },
  {
   "cell_type": "code",
   "execution_count": 133,
   "metadata": {},
   "outputs": [
    {
     "name": "stdin",
     "output_type": "stream",
     "text": [
      "Enter a list of grades separated by commas:  2,3,4,5,6,7,\n"
     ]
    },
    {
     "name": "stdout",
     "output_type": "stream",
     "text": [
      "Exception : Please enter only numeric values separated by commas.\n"
     ]
    }
   ],
   "source": [
    "try:\n",
    "    grades_input = input(\"Enter a list of grades separated by commas: \")\n",
    "    grades = [int(grade.strip()) for grade in grades_input.split(\",\")]\n",
    "    print(\"List of grades:\", grades)\n",
    "except:\n",
    "    print(\"Exception : Please enter only numeric values separated by commas.\")"
   ]
  },
  {
   "cell_type": "markdown",
   "metadata": {},
   "source": [
    "### 07) WAP to create an udf divide(a,b) that handles ZeroDivisionError."
   ]
  },
  {
   "cell_type": "code",
   "execution_count": 141,
   "metadata": {},
   "outputs": [
    {
     "name": "stdout",
     "output_type": "stream",
     "text": [
      "ZeroDivisionError\n"
     ]
    }
   ],
   "source": [
    "def divide(a,b):\n",
    "    try:\n",
    "        print(a/b)\n",
    "        \n",
    "    except ZeroDivisionError:\n",
    "        print(\"ZeroDivisionError\")\n",
    "\n",
    "divide(2,0)"
   ]
  },
  {
   "cell_type": "markdown",
   "metadata": {},
   "source": [
    "### 08) WAP that gets an age of a person form the user and raises ValueError with error message: \"Enter Valid Age\" :\n",
    "#### If the age is less than 18. \n",
    "#### otherwise print the age."
   ]
  },
  {
   "cell_type": "code",
   "execution_count": 171,
   "metadata": {},
   "outputs": [
    {
     "name": "stdin",
     "output_type": "stream",
     "text": [
      "Enter a age: cnvf\n"
     ]
    },
    {
     "name": "stdout",
     "output_type": "stream",
     "text": [
      "value Error\n"
     ]
    }
   ],
   "source": [
    "try:\n",
    "    age=int(input(\"Enter a age:\"))\n",
    "    if(age<18):\n",
    "        print(\"enter a valid age\")\n",
    "    else:\n",
    "        print(age)\n",
    "        \n",
    "except ValueError as err:\n",
    "    print(\"value Error\")"
   ]
  },
  {
   "cell_type": "markdown",
   "metadata": {},
   "source": [
    "### 09) WAP to raise your custom Exception named InvalidUsernameError with the error message : \"Username must be between 5 and 15 characters long\":\n",
    "#### if the given name is having characters less than 5 or greater than 15.\n",
    "#### otherwise print the given username."
   ]
  },
  {
   "cell_type": "code",
   "execution_count": 185,
   "metadata": {},
   "outputs": [
    {
     "name": "stdin",
     "output_type": "stream",
     "text": [
      "Enter a name riya\n"
     ]
    },
    {
     "name": "stdout",
     "output_type": "stream",
     "text": [
      "username must be between 5 and 15 character\n"
     ]
    }
   ],
   "source": [
    "name=input(\"Enter a name\")\n",
    "l = len(name)\n",
    "try:\n",
    "    if(5>l and l<15):\n",
    "        print(\"username must be between 5 and 15 character\")\n",
    "    else:\n",
    "        print(name)\n",
    "except InvalidUsernameError as err:\n",
    "    print(err)"
   ]
  },
  {
   "cell_type": "markdown",
   "metadata": {},
   "source": [
    "### 10) WAP to raise your custom Exception named NegativeNumberError with the error message : \"Cannot calculate the square root of a negative number\" :\n",
    "#### if the given number is negative.\n",
    "#### otherwise print the square root of the given number."
   ]
  },
  {
   "cell_type": "code",
   "execution_count": 187,
   "metadata": {},
   "outputs": [
    {
     "ename": "SyntaxError",
     "evalue": "invalid non-printable character U+00A0 (805310911.py, line 9)",
     "output_type": "error",
     "traceback": [
      "\u001b[1;36m  Cell \u001b[1;32mIn[187], line 9\u001b[1;36m\u001b[0m\n\u001b[1;33m    print(err)\u001b[0m\n\u001b[1;37m    ^\u001b[0m\n\u001b[1;31mSyntaxError\u001b[0m\u001b[1;31m:\u001b[0m invalid non-printable character U+00A0\n"
     ]
    }
   ],
   "source": [
    "import math\n",
    "i = int(input(\"enter number\"))\n",
    "try:\n",
    "    if(i<0):\n",
    "        print(\"cannot calculate the square root of a negative number\")\n",
    "    else:\n",
    "        print(math.sqrt(i))\n",
    "except InvalidUsernameError as err:\n",
    "    print(err)"
   ]
  }
 ],
 "metadata": {
  "kernelspec": {
   "display_name": "Python 3 (ipykernel)",
   "language": "python",
   "name": "python3"
  },
  "language_info": {
   "codemirror_mode": {
    "name": "ipython",
    "version": 3
   },
   "file_extension": ".py",
   "mimetype": "text/x-python",
   "name": "python",
   "nbconvert_exporter": "python",
   "pygments_lexer": "ipython3",
   "version": "3.12.7"
  }
 },
 "nbformat": 4,
 "nbformat_minor": 4
}
